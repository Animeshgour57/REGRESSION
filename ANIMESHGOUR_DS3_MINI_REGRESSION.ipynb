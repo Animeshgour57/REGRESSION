{
 "cells": [
  {
   "cell_type": "code",
   "execution_count": 1,
   "id": "35e1466f",
   "metadata": {},
   "outputs": [],
   "source": [
    "import pandas as pd \n",
    "import numpy as np\n",
    "import matplotlib.pyplot as plt \n",
    "import seaborn as sb \n",
    "import warnings\n",
    "warnings.filterwarnings(\"ignore\")"
   ]
  },
  {
   "cell_type": "code",
   "execution_count": 2,
   "id": "a5cdf0ab",
   "metadata": {},
   "outputs": [],
   "source": [
    "df  = pd.read_csv(\"DS3_C6_S1_Regression_Insurance_Data_Project.csv\")"
   ]
  },
  {
   "cell_type": "code",
   "execution_count": 3,
   "id": "069bea36",
   "metadata": {},
   "outputs": [
    {
     "data": {
      "text/html": [
       "<div>\n",
       "<style scoped>\n",
       "    .dataframe tbody tr th:only-of-type {\n",
       "        vertical-align: middle;\n",
       "    }\n",
       "\n",
       "    .dataframe tbody tr th {\n",
       "        vertical-align: top;\n",
       "    }\n",
       "\n",
       "    .dataframe thead th {\n",
       "        text-align: right;\n",
       "    }\n",
       "</style>\n",
       "<table border=\"1\" class=\"dataframe\">\n",
       "  <thead>\n",
       "    <tr style=\"text-align: right;\">\n",
       "      <th></th>\n",
       "      <th>age</th>\n",
       "      <th>sex</th>\n",
       "      <th>bmi</th>\n",
       "      <th>classif</th>\n",
       "      <th>children</th>\n",
       "      <th>smoker</th>\n",
       "      <th>region</th>\n",
       "      <th>charges</th>\n",
       "    </tr>\n",
       "  </thead>\n",
       "  <tbody>\n",
       "    <tr>\n",
       "      <th>0</th>\n",
       "      <td>19</td>\n",
       "      <td>female</td>\n",
       "      <td>27.900</td>\n",
       "      <td>PREO</td>\n",
       "      <td>0</td>\n",
       "      <td>yes</td>\n",
       "      <td>southwest</td>\n",
       "      <td>16884.92400</td>\n",
       "    </tr>\n",
       "    <tr>\n",
       "      <th>1</th>\n",
       "      <td>18</td>\n",
       "      <td>male</td>\n",
       "      <td>33.770</td>\n",
       "      <td>OB1</td>\n",
       "      <td>1</td>\n",
       "      <td>no</td>\n",
       "      <td>southeast</td>\n",
       "      <td>1725.55230</td>\n",
       "    </tr>\n",
       "    <tr>\n",
       "      <th>2</th>\n",
       "      <td>28</td>\n",
       "      <td>male</td>\n",
       "      <td>33.000</td>\n",
       "      <td>OB1</td>\n",
       "      <td>3</td>\n",
       "      <td>no</td>\n",
       "      <td>southeast</td>\n",
       "      <td>4449.46200</td>\n",
       "    </tr>\n",
       "    <tr>\n",
       "      <th>3</th>\n",
       "      <td>0</td>\n",
       "      <td>male</td>\n",
       "      <td>22.705</td>\n",
       "      <td>N</td>\n",
       "      <td>0</td>\n",
       "      <td>no</td>\n",
       "      <td>northwest</td>\n",
       "      <td>21984.47061</td>\n",
       "    </tr>\n",
       "    <tr>\n",
       "      <th>4</th>\n",
       "      <td>32</td>\n",
       "      <td>male</td>\n",
       "      <td>28.880</td>\n",
       "      <td>PREO</td>\n",
       "      <td>0</td>\n",
       "      <td>no</td>\n",
       "      <td>northwest</td>\n",
       "      <td>3866.85520</td>\n",
       "    </tr>\n",
       "  </tbody>\n",
       "</table>\n",
       "</div>"
      ],
      "text/plain": [
       "   age     sex     bmi classif  children smoker     region      charges\n",
       "0   19  female  27.900    PREO         0    yes  southwest  16884.92400\n",
       "1   18    male  33.770     OB1         1     no  southeast   1725.55230\n",
       "2   28    male  33.000     OB1         3     no  southeast   4449.46200\n",
       "3    0    male  22.705       N         0     no  northwest  21984.47061\n",
       "4   32    male  28.880    PREO         0     no  northwest   3866.85520"
      ]
     },
     "execution_count": 3,
     "metadata": {},
     "output_type": "execute_result"
    }
   ],
   "source": [
    "df.head()"
   ]
  },
  {
   "cell_type": "code",
   "execution_count": 4,
   "id": "e643fc69",
   "metadata": {},
   "outputs": [
    {
     "data": {
      "text/plain": [
       "(1338, 8)"
      ]
     },
     "execution_count": 4,
     "metadata": {},
     "output_type": "execute_result"
    }
   ],
   "source": [
    "df.shape"
   ]
  },
  {
   "cell_type": "code",
   "execution_count": 117,
   "id": "ba9384c4",
   "metadata": {},
   "outputs": [],
   "source": [
    "def vis_num1(a):\n",
    "    plt.figure(figsize=(15,6),facecolor=\"yellow\")\n",
    "    plt.subplot(131)\n",
    "    plt.title(\"NO_OF_PEOPLE\")\n",
    "    plt.xlabel(a)\n",
    "    plt.ylabel(\"COUNT\")\n",
    "    plt.hist(df[a],bins = 7,color = 'm',ec = 'black');\n",
    "\n",
    "    plt.subplot(132)\n",
    "    plt.title(\"box-plot\")\n",
    "    sb.boxplot(a,showmeans = True,color ='skyblue',\n",
    "            data = df)\n",
    "\n",
    "\n",
    "\n",
    "\n",
    "    plt.subplot(133)\n",
    "    sb.kdeplot(x = df[a],shade=True,color='black')\n",
    "    plt.show()\n",
    "    "
   ]
  },
  {
   "cell_type": "code",
   "execution_count": 128,
   "id": "ef1f2515",
   "metadata": {},
   "outputs": [],
   "source": [
    "def cat_visual(a):\n",
    "    plt.figure(figsize = (5,5),facecolor=\"yellow\")\n",
    "    plt.subplot(121)\n",
    "    plt.pie(df[a].value_counts(),labels = df[a].unique(),autopct = '%.2f%%')\n",
    "    plt.title(a)\n",
    "    \n",
    "    plt.figure(figsize = (5,5),facecolor=\"blue\")\n",
    "    plt.subplot(122)\n",
    "    sb.countplot(data = df ,x = a,palette = 'inferno' );\n",
    "    plt.show()"
   ]
  },
  {
   "cell_type": "markdown",
   "id": "236b755c",
   "metadata": {},
   "source": [
    "## HANDLING MISSING VALUES "
   ]
  },
  {
   "cell_type": "code",
   "execution_count": 6,
   "id": "47892689",
   "metadata": {},
   "outputs": [
    {
     "data": {
      "text/plain": [
       "age         0.000000\n",
       "sex         0.000000\n",
       "bmi         0.000000\n",
       "classif     0.597907\n",
       "children    0.000000\n",
       "smoker      0.000000\n",
       "region      0.000000\n",
       "charges     0.000000\n",
       "dtype: float64"
      ]
     },
     "execution_count": 6,
     "metadata": {},
     "output_type": "execute_result"
    }
   ],
   "source": [
    "df.isnull().mean()*100"
   ]
  },
  {
   "cell_type": "code",
   "execution_count": 7,
   "id": "f4cedb03",
   "metadata": {},
   "outputs": [
    {
     "data": {
      "text/plain": [
       "array(['PREO', 'OB1', 'N', 'OB2', 'OB3', nan, 'UW'], dtype=object)"
      ]
     },
     "execution_count": 7,
     "metadata": {},
     "output_type": "execute_result"
    }
   ],
   "source": [
    "df['classif'].unique()"
   ]
  },
  {
   "cell_type": "code",
   "execution_count": 8,
   "id": "5ff74433",
   "metadata": {},
   "outputs": [
    {
     "data": {
      "text/plain": [
       "0.9940209267563528"
      ]
     },
     "execution_count": 8,
     "metadata": {},
     "output_type": "execute_result"
    }
   ],
   "source": [
    "len(df['classif'].dropna()) / len(df)"
   ]
  },
  {
   "cell_type": "code",
   "execution_count": 9,
   "id": "dac348b7",
   "metadata": {},
   "outputs": [],
   "source": [
    "df=df[~df['classif'].isna()]\n"
   ]
  },
  {
   "cell_type": "code",
   "execution_count": 10,
   "id": "3bab29cd",
   "metadata": {},
   "outputs": [
    {
     "data": {
      "text/plain": [
       "age         0.0\n",
       "sex         0.0\n",
       "bmi         0.0\n",
       "classif     0.0\n",
       "children    0.0\n",
       "smoker      0.0\n",
       "region      0.0\n",
       "charges     0.0\n",
       "dtype: float64"
      ]
     },
     "execution_count": 10,
     "metadata": {},
     "output_type": "execute_result"
    }
   ],
   "source": [
    "df.isnull().mean()*100"
   ]
  },
  {
   "cell_type": "code",
   "execution_count": 11,
   "id": "707528f8",
   "metadata": {},
   "outputs": [
    {
     "data": {
      "text/plain": [
       "array(['PREO', 'OB1', 'N', 'OB2', 'OB3', 'UW'], dtype=object)"
      ]
     },
     "execution_count": 11,
     "metadata": {},
     "output_type": "execute_result"
    }
   ],
   "source": [
    "df['classif'].unique()"
   ]
  },
  {
   "cell_type": "code",
   "execution_count": 125,
   "id": "229d848f",
   "metadata": {},
   "outputs": [
    {
     "data": {
      "image/png": "[encoded data removed]",
      "text/plain": [
       "<Figure size 360x360 with 1 Axes>"
      ]
     },
     "metadata": {},
     "output_type": "display_data"
    },
    {
     "data": {
      "image/png": "[encoded data removed]",
      "text/plain": [
       "<Figure size 360x360 with 1 Axes>"
      ]
     },
     "metadata": {},
     "output_type": "display_data"
    }
   ],
   "source": [
    "cat_visual(\"classif\")"
   ]
  },
  {
   "cell_type": "code",
   "execution_count": 12,
   "id": "a5f26c07",
   "metadata": {},
   "outputs": [
    {
     "data": {
      "text/plain": [
       "(1330, 8)"
      ]
     },
     "execution_count": 12,
     "metadata": {},
     "output_type": "execute_result"
    }
   ],
   "source": [
    "df.shape # only 8 rows removed "
   ]
  },
  {
   "cell_type": "code",
   "execution_count": 13,
   "id": "1d11420c",
   "metadata": {
    "scrolled": true
   },
   "outputs": [
    {
     "data": {
      "text/plain": [
       "array([ 19,  18,  28,   0,  32,  31,  46,  37,  60,  25,  62,  23,  56,\n",
       "        27,  52,  30,  34,  59,  63,  55,  22,  26,  35,  24,  41,  38,\n",
       "        36,  21,  48,  40,  58,  53,  43,  64,  20,  61,  57,  29,  45,\n",
       "        54, -58,  49,  44,  47,  51,  42,  50,  39,  33, 190,  -1],\n",
       "      dtype=int64)"
      ]
     },
     "execution_count": 13,
     "metadata": {},
     "output_type": "execute_result"
    }
   ],
   "source": [
    "df['age'].unique()"
   ]
  },
  {
   "cell_type": "code",
   "execution_count": 14,
   "id": "eaa1aa11",
   "metadata": {
    "scrolled": false
   },
   "outputs": [
    {
     "data": {
      "text/html": [
       "<div>\n",
       "<style scoped>\n",
       "    .dataframe tbody tr th:only-of-type {\n",
       "        vertical-align: middle;\n",
       "    }\n",
       "\n",
       "    .dataframe tbody tr th {\n",
       "        vertical-align: top;\n",
       "    }\n",
       "\n",
       "    .dataframe thead th {\n",
       "        text-align: right;\n",
       "    }\n",
       "</style>\n",
       "<table border=\"1\" class=\"dataframe\">\n",
       "  <thead>\n",
       "    <tr style=\"text-align: right;\">\n",
       "      <th></th>\n",
       "      <th>age</th>\n",
       "      <th>sex</th>\n",
       "      <th>bmi</th>\n",
       "      <th>classif</th>\n",
       "      <th>children</th>\n",
       "      <th>smoker</th>\n",
       "      <th>region</th>\n",
       "      <th>charges</th>\n",
       "    </tr>\n",
       "  </thead>\n",
       "  <tbody>\n",
       "    <tr>\n",
       "      <th>116</th>\n",
       "      <td>-58</td>\n",
       "      <td>male</td>\n",
       "      <td>49.06</td>\n",
       "      <td>OB3</td>\n",
       "      <td>0</td>\n",
       "      <td>no</td>\n",
       "      <td>southeast</td>\n",
       "      <td>11381.3254</td>\n",
       "    </tr>\n",
       "    <tr>\n",
       "      <th>1337</th>\n",
       "      <td>-1</td>\n",
       "      <td>female</td>\n",
       "      <td>29.07</td>\n",
       "      <td>PREO</td>\n",
       "      <td>0</td>\n",
       "      <td>yes</td>\n",
       "      <td>northwest</td>\n",
       "      <td>29141.3603</td>\n",
       "    </tr>\n",
       "  </tbody>\n",
       "</table>\n",
       "</div>"
      ],
      "text/plain": [
       "      age     sex    bmi classif  children smoker     region     charges\n",
       "116   -58    male  49.06     OB3         0     no  southeast  11381.3254\n",
       "1337   -1  female  29.07    PREO         0    yes  northwest  29141.3603"
      ]
     },
     "execution_count": 14,
     "metadata": {},
     "output_type": "execute_result"
    }
   ],
   "source": [
    "df[df['age']<0 ]"
   ]
  },
  {
   "cell_type": "code",
   "execution_count": null,
   "id": "b5d73538",
   "metadata": {},
   "outputs": [],
   "source": []
  },
  {
   "cell_type": "code",
   "execution_count": 15,
   "id": "e8b0b2d2",
   "metadata": {},
   "outputs": [],
   "source": [
    "df.loc[(df['age']<0 ) ,'age'] = -df['age']"
   ]
  },
  {
   "cell_type": "code",
   "execution_count": 16,
   "id": "7bf1de03",
   "metadata": {
    "scrolled": true
   },
   "outputs": [
    {
     "data": {
      "text/plain": [
       "array([ 19,  18,  28,   0,  32,  31,  46,  37,  60,  25,  62,  23,  56,\n",
       "        27,  52,  30,  34,  59,  63,  55,  22,  26,  35,  24,  41,  38,\n",
       "        36,  21,  48,  40,  58,  53,  43,  64,  20,  61,  57,  29,  45,\n",
       "        54,  49,  44,  47,  51,  42,  50,  39,  33, 190,   1], dtype=int64)"
      ]
     },
     "execution_count": 16,
     "metadata": {},
     "output_type": "execute_result"
    }
   ],
   "source": [
    "df['age'].unique()"
   ]
  },
  {
   "cell_type": "code",
   "execution_count": 17,
   "id": "dc904427",
   "metadata": {},
   "outputs": [
    {
     "data": {
      "text/html": [
       "<div>\n",
       "<style scoped>\n",
       "    .dataframe tbody tr th:only-of-type {\n",
       "        vertical-align: middle;\n",
       "    }\n",
       "\n",
       "    .dataframe tbody tr th {\n",
       "        vertical-align: top;\n",
       "    }\n",
       "\n",
       "    .dataframe thead th {\n",
       "        text-align: right;\n",
       "    }\n",
       "</style>\n",
       "<table border=\"1\" class=\"dataframe\">\n",
       "  <thead>\n",
       "    <tr style=\"text-align: right;\">\n",
       "      <th></th>\n",
       "      <th>age</th>\n",
       "      <th>sex</th>\n",
       "      <th>bmi</th>\n",
       "      <th>classif</th>\n",
       "      <th>children</th>\n",
       "      <th>smoker</th>\n",
       "      <th>region</th>\n",
       "      <th>charges</th>\n",
       "    </tr>\n",
       "  </thead>\n",
       "  <tbody>\n",
       "  </tbody>\n",
       "</table>\n",
       "</div>"
      ],
      "text/plain": [
       "Empty DataFrame\n",
       "Columns: [age, sex, bmi, classif, children, smoker, region, charges]\n",
       "Index: []"
      ]
     },
     "execution_count": 17,
     "metadata": {},
     "output_type": "execute_result"
    }
   ],
   "source": [
    "df[df['age']<0 ]"
   ]
  },
  {
   "cell_type": "code",
   "execution_count": 18,
   "id": "df778c81",
   "metadata": {},
   "outputs": [
    {
     "data": {
      "image/png": "[encoded data removed]",
      "text/plain": [
       "<Figure size 1080x576 with 3 Axes>"
      ]
     },
     "metadata": {},
     "output_type": "display_data"
    }
   ],
   "source": [
    "vis_num1('age')"
   ]
  },
  {
   "cell_type": "code",
   "execution_count": 19,
   "id": "0fd1a828",
   "metadata": {},
   "outputs": [
    {
     "data": {
      "text/plain": [
       "array(['female', 'male'], dtype=object)"
      ]
     },
     "execution_count": 19,
     "metadata": {},
     "output_type": "execute_result"
    }
   ],
   "source": [
    "df['sex'].unique()"
   ]
  },
  {
   "cell_type": "code",
   "execution_count": 127,
   "id": "66b26a77",
   "metadata": {},
   "outputs": [
    {
     "data": {
      "image/png": "[encoded data removed]",
      "text/plain": [
       "<Figure size 360x360 with 1 Axes>"
      ]
     },
     "metadata": {},
     "output_type": "display_data"
    },
    {
     "data": {
      "image/png": "[encoded data removed]",
      "text/plain": [
       "<Figure size 360x360 with 1 Axes>"
      ]
     },
     "metadata": {},
     "output_type": "display_data"
    }
   ],
   "source": [
    "cat_visual(\"sex\")"
   ]
  },
  {
   "cell_type": "code",
   "execution_count": 20,
   "id": "21c9e63c",
   "metadata": {
    "scrolled": true
   },
   "outputs": [
    {
     "data": {
      "text/plain": [
       "array([27.9  , 33.77 , 33.   , 22.705, 28.88 , 25.74 , 33.44 , 27.74 ,\n",
       "       29.83 , 25.84 , 26.22 , 26.29 , 34.4  , 39.82 , 42.13 , 30.78 ,\n",
       "       23.845, 40.3  , 35.3  , 36.005, 32.4  , 34.1  , 31.92 , 28.025,\n",
       "       27.72 , 23.085, 32.775, 17.385, 36.3  , 35.6  , 26.315, 28.6  ,\n",
       "       28.31 , 36.4  , 20.425, 32.965, 20.8  , 36.67 , 39.9  , 26.6  ,\n",
       "       36.63 , 21.78 , 30.8  , 37.05 , 37.3  , 38.665, 34.77 , 24.53 ,\n",
       "       35.2  , 35.625, 33.63 , 28.   , 34.43 , 28.69 , 36.955, 31.825,\n",
       "       31.68 , 22.88 , 37.335, 27.36 , 33.66 , 24.7  , 25.935, 22.42 ,\n",
       "       28.9  , 39.1  , 36.19 , 23.98 , 24.75 , 28.5  , 28.1  , 32.01 ,\n",
       "       34.01 , 29.59 , 35.53 , 39.805, 26.885, 38.285, 37.62 , 41.23 ,\n",
       "       34.8  , 22.895, 31.16 , 27.2  , 26.98 , 39.49 , 24.795, 31.3  ,\n",
       "       38.28 , 19.95 , 19.3  , 31.6  , 25.46 , 30.115, 29.92 , 27.5  ,\n",
       "       28.4  , 30.875, 27.94 , 35.09 , 29.7  , 35.72 , 32.205, 28.595,\n",
       "       49.06 , 27.17 , 23.37 , 37.1  , 23.75 , 28.975, 31.35 , 33.915,\n",
       "       28.785, 28.3  , 37.4  , 34.7  , 26.505, 22.04 , 35.9  , 25.555,\n",
       "       28.05 , 25.175, 31.9  , 36.   , 32.49 , 25.3  , 29.735, 38.83 ,\n",
       "       30.495, 37.73 , 37.43 , 24.13 , 37.145, 39.52 , 24.42 , 27.83 ,\n",
       "       36.85 , 39.6  , 29.8  , 29.64 , 28.215, 37.   , 33.155, 18.905,\n",
       "       41.47 , 30.3  , 15.96 , 33.345, 37.7  , 27.835, 29.2  , 26.41 ,\n",
       "       30.69 , 41.895, 30.9  , 32.2  , 32.11 , 31.57 , 26.2  , 30.59 ,\n",
       "       32.8  , 18.05 , 39.33 , 32.23 , 24.035, 36.08 , 22.3  , 26.4  ,\n",
       "       31.8  , 26.73 , 23.1  , 23.21 , 33.7  , 33.25 , 24.64 , 33.88 ,\n",
       "       38.06 , 41.91 , 31.635, 36.195, 17.8  , 24.51 , 22.22 , 38.39 ,\n",
       "       29.07 , 22.135, 26.8  , 30.02 , 35.86 , 20.9  , 17.29 , 34.21 ,\n",
       "       25.365, 40.15 , 24.415, 25.2  , 26.84 , 24.32 , 42.35 , 19.8  ,\n",
       "       32.395, 30.2  , 29.37 , 34.2  , 27.455, 27.55 , 20.615, 24.3  ,\n",
       "       31.79 , 21.56 , 28.12 , 40.565, 27.645, 31.2  , 26.62 , 48.07 ,\n",
       "       36.765, 33.4  , 45.54 , 28.82 , 22.99 , 27.7  , 25.41 , 34.39 ,\n",
       "       22.61 , 37.51 , 38.   , 33.33 , 34.865, 33.06 , 35.97 , 31.4  ,\n",
       "       25.27 , 40.945, 34.105, 36.48 , 33.8  , 36.7  , 36.385, 34.5  ,\n",
       "       32.3  , 27.6  , 29.26 , 35.75 , 23.18 , 25.6  , 35.245, 43.89 ,\n",
       "       20.79 , 30.5  , 21.7  , 21.89 , 24.985, 32.015, 30.4  , 21.09 ,\n",
       "       22.23 , 32.9  , 24.89 , 31.46 , 17.955, 30.685, 43.34 , 39.05 ,\n",
       "       30.21 , 31.445, 19.855, 31.02 , 38.17 , 20.6  , 47.52 , 20.4  ,\n",
       "       38.38 , 24.31 , 23.6  , 21.12 , 30.03 , 17.48 , 20.235, 17.195,\n",
       "       23.9  , 35.15 , 35.64 , 22.6  , 39.16 , 27.265, 29.165, 16.815,\n",
       "       33.1  , 26.9  , 33.11 , 31.73 , 46.75 , 29.45 , 32.68 , 33.5  ,\n",
       "       43.01 , 36.52 , 26.695, 25.65 , 29.6  , 38.6  , 23.4  , 46.53 ,\n",
       "       30.14 , 30.   , 38.095, 28.38 , 28.7  , 33.82 , 24.09 , 32.67 ,\n",
       "       25.1  , 32.56 , 41.325, 39.5  , 34.3  , 31.065, 21.47 , 25.08 ,\n",
       "       43.4  , 25.7  , 27.93 , 39.2  , 26.03 , 30.25 , 28.93 , 35.7  ,\n",
       "       35.31 , 31.   , 44.22 , 26.07 , 25.8  , 39.425, 40.48 , 38.9  ,\n",
       "       47.41 , 35.435, 46.7  , 46.2  , 21.4  , 23.8  , 44.77 , 32.12 ,\n",
       "       29.1  , 37.29 , 43.12 , 36.86 , 34.295, 23.465, 45.43 , 23.65 ,\n",
       "       20.7  , 28.27 , 35.91 , 29.   , 19.57 , 31.13 , 21.85 , 40.26 ,\n",
       "       33.725, 29.48 , 32.6  , 37.525, 23.655, 37.8  , 19.   , 21.3  ,\n",
       "       33.535, 42.46 , 38.95 , 36.1  , 29.3  , 39.7  , 38.19 , 42.4  ,\n",
       "       34.96 , 42.68 , 31.54 , 29.81 , 21.375, 40.81 , 17.4  , 20.3  ,\n",
       "       18.5  , 26.125, 41.69 , 24.1  , 36.2  , 40.185, 39.27 , 34.87 ,\n",
       "       44.745, 29.545, 23.54 , 40.47 , 40.66 , 36.6  , 35.4  , 27.075,\n",
       "       28.405, 21.755, 40.28 , 30.1  , 32.1  , 23.7  , 35.5  , 29.15 ,\n",
       "       27.   , 37.905, 22.77 , 22.8  , 34.58 , 27.1  , 19.475, 26.7  ,\n",
       "       34.32 , 24.4  , 41.14 , 22.515, 41.8  , 26.18 , 42.24 , 26.51 ,\n",
       "       35.815, 41.42 , 36.575, 42.94 , 21.01 , 24.225, 17.67 , 31.5  ,\n",
       "       31.1  , 32.78 , 32.45 , 50.38 , 47.6  , 25.4  , 29.9  , 43.7  ,\n",
       "       24.86 , 28.8  , 29.5  , 29.04 , 38.94 , 44.   , 20.045, 40.92 ,\n",
       "       35.1  , 29.355, 32.585, 32.34 , 39.8  , 24.6  , 24.605, 33.99 ,\n",
       "       28.2  , 25.   , 33.2  , 23.2  , 20.1  , 32.5  , 37.18 , 46.09 ,\n",
       "       39.93 , 35.8  , 31.255, 18.335, 42.9  , 26.79 , 39.615, 25.9  ,\n",
       "       25.745, 28.16 , 23.56 , 40.5  , 35.42 , 39.995, 34.675, 20.52 ,\n",
       "       23.275, 36.29 , 32.7  , 19.19 , 20.13 , 23.32 , 45.32 , 34.6  ,\n",
       "       18.715, 21.565, 23.   , 37.07 , 52.58 , 42.655, 21.66 , 32.   ,\n",
       "       18.3  , 47.74 , 22.1  , 19.095, 31.24 , 29.925, 20.35 , 25.85 ,\n",
       "       42.75 , 18.6  , 23.87 , 45.9  , 21.5  , 30.305, 44.88 , 41.1  ,\n",
       "       40.37 , 27.4  , 28.49 , 33.55 , 40.375, 27.28 , 17.86 , 33.3  ,\n",
       "       39.14 , 21.945, 24.97 , 23.94 , 34.485, 21.8  , 23.3  , 36.96 ,\n",
       "       21.28 , 29.4  , 27.3  , 37.9  , 37.715, 23.76 , 25.52 , 27.61 ,\n",
       "       27.06 , 39.4  , 34.9  , 22.   , 30.36 , 27.8  , 53.13 , 39.71 ,\n",
       "       32.87 , 44.7  , 30.97 ])"
      ]
     },
     "execution_count": 20,
     "metadata": {},
     "output_type": "execute_result"
    }
   ],
   "source": [
    "df['bmi'].unique()"
   ]
  },
  {
   "cell_type": "code",
   "execution_count": 120,
   "id": "6862d8ac",
   "metadata": {},
   "outputs": [
    {
     "data": {
      "image/png": "[encoded data removed]",
      "text/plain": [
       "<Figure size 1080x432 with 3 Axes>"
      ]
     },
     "metadata": {},
     "output_type": "display_data"
    }
   ],
   "source": [
    "vis_num1('bmi')"
   ]
  },
  {
   "cell_type": "code",
   "execution_count": 22,
   "id": "9f521929",
   "metadata": {},
   "outputs": [
    {
     "data": {
      "text/html": [
       "<div>\n",
       "<style scoped>\n",
       "    .dataframe tbody tr th:only-of-type {\n",
       "        vertical-align: middle;\n",
       "    }\n",
       "\n",
       "    .dataframe tbody tr th {\n",
       "        vertical-align: top;\n",
       "    }\n",
       "\n",
       "    .dataframe thead th {\n",
       "        text-align: right;\n",
       "    }\n",
       "</style>\n",
       "<table border=\"1\" class=\"dataframe\">\n",
       "  <thead>\n",
       "    <tr style=\"text-align: right;\">\n",
       "      <th></th>\n",
       "      <th>age</th>\n",
       "      <th>sex</th>\n",
       "      <th>bmi</th>\n",
       "      <th>classif</th>\n",
       "      <th>children</th>\n",
       "      <th>smoker</th>\n",
       "      <th>region</th>\n",
       "      <th>charges</th>\n",
       "    </tr>\n",
       "  </thead>\n",
       "  <tbody>\n",
       "    <tr>\n",
       "      <th>847</th>\n",
       "      <td>23</td>\n",
       "      <td>male</td>\n",
       "      <td>50.38</td>\n",
       "      <td>OB3</td>\n",
       "      <td>1</td>\n",
       "      <td>no</td>\n",
       "      <td>southeast</td>\n",
       "      <td>2438.0552</td>\n",
       "    </tr>\n",
       "    <tr>\n",
       "      <th>1047</th>\n",
       "      <td>22</td>\n",
       "      <td>male</td>\n",
       "      <td>52.58</td>\n",
       "      <td>OB3</td>\n",
       "      <td>1</td>\n",
       "      <td>yes</td>\n",
       "      <td>southeast</td>\n",
       "      <td>44501.3982</td>\n",
       "    </tr>\n",
       "    <tr>\n",
       "      <th>1317</th>\n",
       "      <td>18</td>\n",
       "      <td>male</td>\n",
       "      <td>53.13</td>\n",
       "      <td>OB3</td>\n",
       "      <td>0</td>\n",
       "      <td>no</td>\n",
       "      <td>southeast</td>\n",
       "      <td>1163.4627</td>\n",
       "    </tr>\n",
       "  </tbody>\n",
       "</table>\n",
       "</div>"
      ],
      "text/plain": [
       "      age   sex    bmi classif  children smoker     region     charges\n",
       "847    23  male  50.38     OB3         1     no  southeast   2438.0552\n",
       "1047   22  male  52.58     OB3         1    yes  southeast  44501.3982\n",
       "1317   18  male  53.13     OB3         0     no  southeast   1163.4627"
      ]
     },
     "execution_count": 22,
     "metadata": {},
     "output_type": "execute_result"
    }
   ],
   "source": [
    "df[df['bmi']>= 50 ]"
   ]
  },
  {
   "cell_type": "code",
   "execution_count": 23,
   "id": "c7c8ddb9",
   "metadata": {},
   "outputs": [
    {
     "data": {
      "text/plain": [
       "array([0, 1, 3, 2, 5, 4], dtype=int64)"
      ]
     },
     "execution_count": 23,
     "metadata": {},
     "output_type": "execute_result"
    }
   ],
   "source": [
    "df['children'].unique()"
   ]
  },
  {
   "cell_type": "code",
   "execution_count": 121,
   "id": "8cfaafc9",
   "metadata": {},
   "outputs": [],
   "source": []
  },
  {
   "cell_type": "code",
   "execution_count": 132,
   "id": "e1ba7312",
   "metadata": {},
   "outputs": [
    {
     "data": {
      "image/png": "[encoded data removed]",
      "text/plain": [
       "<Figure size 360x360 with 1 Axes>"
      ]
     },
     "metadata": {},
     "output_type": "display_data"
    },
    {
     "data": {
      "image/png": "[encoded data removed]",
      "text/plain": [
       "<Figure size 360x360 with 1 Axes>"
      ]
     },
     "metadata": {},
     "output_type": "display_data"
    }
   ],
   "source": [
    "cat_visual(\"children\")"
   ]
  },
  {
   "cell_type": "code",
   "execution_count": 133,
   "id": "4e4ebb90",
   "metadata": {},
   "outputs": [
    {
     "data": {
      "text/plain": [
       "array(['yes', 'no'], dtype=object)"
      ]
     },
     "execution_count": 133,
     "metadata": {},
     "output_type": "execute_result"
    }
   ],
   "source": [
    "df['smoker'].unique()"
   ]
  },
  {
   "cell_type": "code",
   "execution_count": 137,
   "id": "1265d3e1",
   "metadata": {},
   "outputs": [],
   "source": [
    "def cat_visual(a):\n",
    "    plt.figure(figsize = (5,5),facecolor=\"yellow\")\n",
    "    plt.subplot(121)\n",
    "    plt.pie(df[a].value_counts().sort_values(),labels = df[a].unique(),autopct = '%.2f%%')\n",
    "    plt.title(a)\n",
    "    \n",
    "    plt.figure(figsize = (5,5),facecolor=\"blue\")\n",
    "    plt.subplot(122)\n",
    "    sb.countplot(data = df ,x = a,palette = 'inferno' );\n",
    "    plt.show()"
   ]
  },
  {
   "cell_type": "code",
   "execution_count": 138,
   "id": "f8f233cd",
   "metadata": {},
   "outputs": [
    {
     "data": {
      "image/png": "[encoded data removed]",
      "text/plain": [
       "<Figure size 360x360 with 1 Axes>"
      ]
     },
     "metadata": {},
     "output_type": "display_data"
    },
    {
     "data": {
      "image/png": "[encoded data removed]",
      "text/plain": [
       "<Figure size 360x360 with 1 Axes>"
      ]
     },
     "metadata": {},
     "output_type": "display_data"
    }
   ],
   "source": [
    "cat_visual('smoker')"
   ]
  },
  {
   "cell_type": "code",
   "execution_count": 134,
   "id": "d76eabb1",
   "metadata": {},
   "outputs": [
    {
     "data": {
      "text/plain": [
       "no     1056\n",
       "yes     273\n",
       "Name: smoker, dtype: int64"
      ]
     },
     "execution_count": 134,
     "metadata": {},
     "output_type": "execute_result"
    }
   ],
   "source": [
    "df['smoker'].value_counts()"
   ]
  },
  {
   "cell_type": "code",
   "execution_count": 25,
   "id": "f6eedc02",
   "metadata": {},
   "outputs": [
    {
     "data": {
      "text/plain": [
       "array(['southwest', 'southeast', 'northwest', 'northeast'], dtype=object)"
      ]
     },
     "execution_count": 25,
     "metadata": {},
     "output_type": "execute_result"
    }
   ],
   "source": [
    "df['region'].unique()"
   ]
  },
  {
   "cell_type": "code",
   "execution_count": 154,
   "id": "1144a423",
   "metadata": {},
   "outputs": [
    {
     "data": {
      "text/plain": [
       "southwest    321\n",
       "northwest    321\n",
       "northeast    323\n",
       "southeast    364\n",
       "Name: region, dtype: int64"
      ]
     },
     "execution_count": 154,
     "metadata": {},
     "output_type": "execute_result"
    }
   ],
   "source": [
    "df['region'].value_counts().sort_values()\n"
   ]
  },
  {
   "cell_type": "code",
   "execution_count": 148,
   "id": "a3090711",
   "metadata": {},
   "outputs": [],
   "source": [
    "def cat_visual1(a):\n",
    "    plt.figure(figsize = (5,5),facecolor=\"yellow\")\n",
    "    plt.subplot(121)\n",
    "    plt.pie(df[a].value_counts(),labels = df[a].unique(),autopct = '%.2f%%')\n",
    "    plt.title(a)\n",
    "    \n",
    "    plt.figure(figsize = (10,5),facecolor=\"skyblue\")\n",
    "    plt.subplot(122)\n",
    "    sb.countplot(data = df ,x = a,palette = 'inferno' );\n",
    "    plt.show()"
   ]
  },
  {
   "cell_type": "code",
   "execution_count": 149,
   "id": "5dd95b79",
   "metadata": {},
   "outputs": [
    {
     "data": {
      "image/png": "[encoded data removed]",
      "text/plain": [
       "<Figure size 360x360 with 1 Axes>"
      ]
     },
     "metadata": {},
     "output_type": "display_data"
    },
    {
     "data": {
      "image/png": "[encoded data removed]",
      "text/plain": [
       "<Figure size 720x360 with 1 Axes>"
      ]
     },
     "metadata": {},
     "output_type": "display_data"
    }
   ],
   "source": [
    "cat_visual1(\"region\")"
   ]
  },
  {
   "cell_type": "code",
   "execution_count": null,
   "id": "05487441",
   "metadata": {},
   "outputs": [],
   "source": []
  },
  {
   "cell_type": "code",
   "execution_count": 26,
   "id": "b649b722",
   "metadata": {},
   "outputs": [
    {
     "data": {
      "text/plain": [
       "array([16884.924 ,  1725.5523,  4449.462 , ...,  1629.8335,  2007.945 ,\n",
       "       29141.3603])"
      ]
     },
     "execution_count": 26,
     "metadata": {},
     "output_type": "execute_result"
    }
   ],
   "source": [
    "df['charges'].unique()"
   ]
  },
  {
   "cell_type": "code",
   "execution_count": 119,
   "id": "21f0120c",
   "metadata": {
    "scrolled": false
   },
   "outputs": [
    {
     "data": {
      "image/png": "[encoded data removed]",
      "text/plain": [
       "<Figure size 1080x432 with 3 Axes>"
      ]
     },
     "metadata": {},
     "output_type": "display_data"
    }
   ],
   "source": [
    "vis_num1('charges')"
   ]
  },
  {
   "cell_type": "code",
   "execution_count": 28,
   "id": "84628082",
   "metadata": {},
   "outputs": [
    {
     "data": {
      "text/html": [
       "<div>\n",
       "<style scoped>\n",
       "    .dataframe tbody tr th:only-of-type {\n",
       "        vertical-align: middle;\n",
       "    }\n",
       "\n",
       "    .dataframe tbody tr th {\n",
       "        vertical-align: top;\n",
       "    }\n",
       "\n",
       "    .dataframe thead th {\n",
       "        text-align: right;\n",
       "    }\n",
       "</style>\n",
       "<table border=\"1\" class=\"dataframe\">\n",
       "  <thead>\n",
       "    <tr style=\"text-align: right;\">\n",
       "      <th></th>\n",
       "      <th>age</th>\n",
       "      <th>sex</th>\n",
       "      <th>bmi</th>\n",
       "      <th>classif</th>\n",
       "      <th>children</th>\n",
       "      <th>smoker</th>\n",
       "      <th>region</th>\n",
       "      <th>charges</th>\n",
       "    </tr>\n",
       "  </thead>\n",
       "  <tbody>\n",
       "    <tr>\n",
       "      <th>14</th>\n",
       "      <td>27</td>\n",
       "      <td>male</td>\n",
       "      <td>42.130</td>\n",
       "      <td>OB3</td>\n",
       "      <td>0</td>\n",
       "      <td>yes</td>\n",
       "      <td>southeast</td>\n",
       "      <td>39611.75770</td>\n",
       "    </tr>\n",
       "    <tr>\n",
       "      <th>19</th>\n",
       "      <td>30</td>\n",
       "      <td>male</td>\n",
       "      <td>35.300</td>\n",
       "      <td>OB2</td>\n",
       "      <td>0</td>\n",
       "      <td>yes</td>\n",
       "      <td>southwest</td>\n",
       "      <td>36837.46700</td>\n",
       "    </tr>\n",
       "    <tr>\n",
       "      <th>23</th>\n",
       "      <td>34</td>\n",
       "      <td>female</td>\n",
       "      <td>31.920</td>\n",
       "      <td>OB1</td>\n",
       "      <td>1</td>\n",
       "      <td>yes</td>\n",
       "      <td>northeast</td>\n",
       "      <td>37701.87680</td>\n",
       "    </tr>\n",
       "    <tr>\n",
       "      <th>29</th>\n",
       "      <td>31</td>\n",
       "      <td>male</td>\n",
       "      <td>36.300</td>\n",
       "      <td>OB2</td>\n",
       "      <td>2</td>\n",
       "      <td>yes</td>\n",
       "      <td>southwest</td>\n",
       "      <td>38711.00000</td>\n",
       "    </tr>\n",
       "    <tr>\n",
       "      <th>30</th>\n",
       "      <td>22</td>\n",
       "      <td>male</td>\n",
       "      <td>35.600</td>\n",
       "      <td>OB2</td>\n",
       "      <td>0</td>\n",
       "      <td>yes</td>\n",
       "      <td>southwest</td>\n",
       "      <td>35585.57600</td>\n",
       "    </tr>\n",
       "    <tr>\n",
       "      <th>...</th>\n",
       "      <td>...</td>\n",
       "      <td>...</td>\n",
       "      <td>...</td>\n",
       "      <td>...</td>\n",
       "      <td>...</td>\n",
       "      <td>...</td>\n",
       "      <td>...</td>\n",
       "      <td>...</td>\n",
       "    </tr>\n",
       "    <tr>\n",
       "      <th>1301</th>\n",
       "      <td>62</td>\n",
       "      <td>male</td>\n",
       "      <td>30.875</td>\n",
       "      <td>OB1</td>\n",
       "      <td>3</td>\n",
       "      <td>yes</td>\n",
       "      <td>northwest</td>\n",
       "      <td>46718.16325</td>\n",
       "    </tr>\n",
       "    <tr>\n",
       "      <th>1303</th>\n",
       "      <td>43</td>\n",
       "      <td>male</td>\n",
       "      <td>27.800</td>\n",
       "      <td>PREO</td>\n",
       "      <td>0</td>\n",
       "      <td>yes</td>\n",
       "      <td>southwest</td>\n",
       "      <td>37829.72420</td>\n",
       "    </tr>\n",
       "    <tr>\n",
       "      <th>1308</th>\n",
       "      <td>25</td>\n",
       "      <td>female</td>\n",
       "      <td>30.200</td>\n",
       "      <td>OB1</td>\n",
       "      <td>0</td>\n",
       "      <td>yes</td>\n",
       "      <td>southwest</td>\n",
       "      <td>33900.65300</td>\n",
       "    </tr>\n",
       "    <tr>\n",
       "      <th>1313</th>\n",
       "      <td>19</td>\n",
       "      <td>female</td>\n",
       "      <td>34.700</td>\n",
       "      <td>OB1</td>\n",
       "      <td>2</td>\n",
       "      <td>yes</td>\n",
       "      <td>southwest</td>\n",
       "      <td>36397.57600</td>\n",
       "    </tr>\n",
       "    <tr>\n",
       "      <th>1323</th>\n",
       "      <td>42</td>\n",
       "      <td>female</td>\n",
       "      <td>40.370</td>\n",
       "      <td>OB3</td>\n",
       "      <td>2</td>\n",
       "      <td>yes</td>\n",
       "      <td>southeast</td>\n",
       "      <td>43896.37630</td>\n",
       "    </tr>\n",
       "  </tbody>\n",
       "</table>\n",
       "<p>161 rows × 8 columns</p>\n",
       "</div>"
      ],
      "text/plain": [
       "      age     sex     bmi classif  children smoker     region      charges\n",
       "14     27    male  42.130     OB3         0    yes  southeast  39611.75770\n",
       "19     30    male  35.300     OB2         0    yes  southwest  36837.46700\n",
       "23     34  female  31.920     OB1         1    yes  northeast  37701.87680\n",
       "29     31    male  36.300     OB2         2    yes  southwest  38711.00000\n",
       "30     22    male  35.600     OB2         0    yes  southwest  35585.57600\n",
       "...   ...     ...     ...     ...       ...    ...        ...          ...\n",
       "1301   62    male  30.875     OB1         3    yes  northwest  46718.16325\n",
       "1303   43    male  27.800    PREO         0    yes  southwest  37829.72420\n",
       "1308   25  female  30.200     OB1         0    yes  southwest  33900.65300\n",
       "1313   19  female  34.700     OB1         2    yes  southwest  36397.57600\n",
       "1323   42  female  40.370     OB3         2    yes  southeast  43896.37630\n",
       "\n",
       "[161 rows x 8 columns]"
      ]
     },
     "execution_count": 28,
     "metadata": {},
     "output_type": "execute_result"
    }
   ],
   "source": [
    "df[df['charges']>= 30000 ]"
   ]
  },
  {
   "cell_type": "markdown",
   "id": "c02c66ba",
   "metadata": {},
   "source": [
    "## DATA EXPLORATION \n"
   ]
  },
  {
   "cell_type": "code",
   "execution_count": 29,
   "id": "2237c748",
   "metadata": {},
   "outputs": [
    {
     "data": {
      "text/plain": [
       "Index(['age', 'sex', 'bmi', 'classif', 'children', 'smoker', 'region',\n",
       "       'charges'],\n",
       "      dtype='object')"
      ]
     },
     "execution_count": 29,
     "metadata": {},
     "output_type": "execute_result"
    }
   ],
   "source": [
    "df.columns"
   ]
  },
  {
   "cell_type": "code",
   "execution_count": 30,
   "id": "d06a20ba",
   "metadata": {
    "scrolled": true
   },
   "outputs": [
    {
     "name": "stdout",
     "output_type": "stream",
     "text": [
      "<class 'pandas.core.frame.DataFrame'>\n",
      "Int64Index: 1330 entries, 0 to 1337\n",
      "Data columns (total 8 columns):\n",
      " #   Column    Non-Null Count  Dtype  \n",
      "---  ------    --------------  -----  \n",
      " 0   age       1330 non-null   int64  \n",
      " 1   sex       1330 non-null   object \n",
      " 2   bmi       1330 non-null   float64\n",
      " 3   classif   1330 non-null   object \n",
      " 4   children  1330 non-null   int64  \n",
      " 5   smoker    1330 non-null   object \n",
      " 6   region    1330 non-null   object \n",
      " 7   charges   1330 non-null   float64\n",
      "dtypes: float64(2), int64(2), object(4)\n",
      "memory usage: 125.8+ KB\n"
     ]
    }
   ],
   "source": [
    "df.info()"
   ]
  },
  {
   "cell_type": "code",
   "execution_count": 31,
   "id": "c2e1c596",
   "metadata": {
    "scrolled": true
   },
   "outputs": [
    {
     "data": {
      "text/plain": [
       "<AxesSubplot:xlabel='age', ylabel='charges'>"
      ]
     },
     "execution_count": 31,
     "metadata": {},
     "output_type": "execute_result"
    },
    {
     "data": {
      "image/png": "[encoded data removed]",
      "text/plain": [
       "<Figure size 432x288 with 1 Axes>"
      ]
     },
     "metadata": {
      "needs_background": "light"
     },
     "output_type": "display_data"
    }
   ],
   "source": [
    "sb.scatterplot(df['age'],df['charges'])"
   ]
  },
  {
   "cell_type": "code",
   "execution_count": 32,
   "id": "d18926c5",
   "metadata": {
    "scrolled": true
   },
   "outputs": [
    {
     "data": {
      "text/html": [
       "<div>\n",
       "<style scoped>\n",
       "    .dataframe tbody tr th:only-of-type {\n",
       "        vertical-align: middle;\n",
       "    }\n",
       "\n",
       "    .dataframe tbody tr th {\n",
       "        vertical-align: top;\n",
       "    }\n",
       "\n",
       "    .dataframe thead th {\n",
       "        text-align: right;\n",
       "    }\n",
       "</style>\n",
       "<table border=\"1\" class=\"dataframe\">\n",
       "  <thead>\n",
       "    <tr style=\"text-align: right;\">\n",
       "      <th></th>\n",
       "      <th>age</th>\n",
       "      <th>bmi</th>\n",
       "      <th>children</th>\n",
       "      <th>charges</th>\n",
       "    </tr>\n",
       "  </thead>\n",
       "  <tbody>\n",
       "    <tr>\n",
       "      <th>count</th>\n",
       "      <td>1330.000000</td>\n",
       "      <td>1330.000000</td>\n",
       "      <td>1330.000000</td>\n",
       "      <td>1330.000000</td>\n",
       "    </tr>\n",
       "    <tr>\n",
       "      <th>mean</th>\n",
       "      <td>39.262406</td>\n",
       "      <td>30.670391</td>\n",
       "      <td>1.096992</td>\n",
       "      <td>13292.686109</td>\n",
       "    </tr>\n",
       "    <tr>\n",
       "      <th>std</th>\n",
       "      <td>14.727304</td>\n",
       "      <td>6.100324</td>\n",
       "      <td>1.207105</td>\n",
       "      <td>12120.545602</td>\n",
       "    </tr>\n",
       "    <tr>\n",
       "      <th>min</th>\n",
       "      <td>0.000000</td>\n",
       "      <td>15.960000</td>\n",
       "      <td>0.000000</td>\n",
       "      <td>1121.873900</td>\n",
       "    </tr>\n",
       "    <tr>\n",
       "      <th>25%</th>\n",
       "      <td>26.250000</td>\n",
       "      <td>26.296250</td>\n",
       "      <td>0.000000</td>\n",
       "      <td>4746.521225</td>\n",
       "    </tr>\n",
       "    <tr>\n",
       "      <th>50%</th>\n",
       "      <td>39.000000</td>\n",
       "      <td>30.380000</td>\n",
       "      <td>1.000000</td>\n",
       "      <td>9388.753650</td>\n",
       "    </tr>\n",
       "    <tr>\n",
       "      <th>75%</th>\n",
       "      <td>51.000000</td>\n",
       "      <td>34.693750</td>\n",
       "      <td>2.000000</td>\n",
       "      <td>16746.657400</td>\n",
       "    </tr>\n",
       "    <tr>\n",
       "      <th>max</th>\n",
       "      <td>190.000000</td>\n",
       "      <td>53.130000</td>\n",
       "      <td>5.000000</td>\n",
       "      <td>63770.428010</td>\n",
       "    </tr>\n",
       "  </tbody>\n",
       "</table>\n",
       "</div>"
      ],
      "text/plain": [
       "               age          bmi     children       charges\n",
       "count  1330.000000  1330.000000  1330.000000   1330.000000\n",
       "mean     39.262406    30.670391     1.096992  13292.686109\n",
       "std      14.727304     6.100324     1.207105  12120.545602\n",
       "min       0.000000    15.960000     0.000000   1121.873900\n",
       "25%      26.250000    26.296250     0.000000   4746.521225\n",
       "50%      39.000000    30.380000     1.000000   9388.753650\n",
       "75%      51.000000    34.693750     2.000000  16746.657400\n",
       "max     190.000000    53.130000     5.000000  63770.428010"
      ]
     },
     "execution_count": 32,
     "metadata": {},
     "output_type": "execute_result"
    }
   ],
   "source": [
    "df.describe()"
   ]
  },
  {
   "cell_type": "code",
   "execution_count": 33,
   "id": "b83fd2a6",
   "metadata": {},
   "outputs": [],
   "source": [
    "df=df[df['age']<80] # removing the outlier "
   ]
  },
  {
   "cell_type": "code",
   "execution_count": 118,
   "id": "4a9e5cdf",
   "metadata": {},
   "outputs": [
    {
     "data": {
      "image/png": "[encoded data removed]",
      "text/plain": [
       "<Figure size 1080x432 with 3 Axes>"
      ]
     },
     "metadata": {},
     "output_type": "display_data"
    }
   ],
   "source": [
    "vis_num1('age')"
   ]
  },
  {
   "cell_type": "code",
   "execution_count": 34,
   "id": "b7f5e64e",
   "metadata": {},
   "outputs": [
    {
     "data": {
      "text/html": [
       "<div>\n",
       "<style scoped>\n",
       "    .dataframe tbody tr th:only-of-type {\n",
       "        vertical-align: middle;\n",
       "    }\n",
       "\n",
       "    .dataframe tbody tr th {\n",
       "        vertical-align: top;\n",
       "    }\n",
       "\n",
       "    .dataframe thead th {\n",
       "        text-align: right;\n",
       "    }\n",
       "</style>\n",
       "<table border=\"1\" class=\"dataframe\">\n",
       "  <thead>\n",
       "    <tr style=\"text-align: right;\">\n",
       "      <th></th>\n",
       "      <th>age</th>\n",
       "      <th>bmi</th>\n",
       "      <th>children</th>\n",
       "      <th>charges</th>\n",
       "    </tr>\n",
       "  </thead>\n",
       "  <tbody>\n",
       "    <tr>\n",
       "      <th>count</th>\n",
       "      <td>1329.000000</td>\n",
       "      <td>1329.000000</td>\n",
       "      <td>1329.000000</td>\n",
       "      <td>1329.000000</td>\n",
       "    </tr>\n",
       "    <tr>\n",
       "      <th>mean</th>\n",
       "      <td>39.148984</td>\n",
       "      <td>30.670523</td>\n",
       "      <td>1.097818</td>\n",
       "      <td>13301.086602</td>\n",
       "    </tr>\n",
       "    <tr>\n",
       "      <th>std</th>\n",
       "      <td>14.139806</td>\n",
       "      <td>6.102619</td>\n",
       "      <td>1.207183</td>\n",
       "      <td>12121.234360</td>\n",
       "    </tr>\n",
       "    <tr>\n",
       "      <th>min</th>\n",
       "      <td>0.000000</td>\n",
       "      <td>15.960000</td>\n",
       "      <td>0.000000</td>\n",
       "      <td>1121.873900</td>\n",
       "    </tr>\n",
       "    <tr>\n",
       "      <th>25%</th>\n",
       "      <td>26.000000</td>\n",
       "      <td>26.290000</td>\n",
       "      <td>0.000000</td>\n",
       "      <td>4747.052900</td>\n",
       "    </tr>\n",
       "    <tr>\n",
       "      <th>50%</th>\n",
       "      <td>39.000000</td>\n",
       "      <td>30.360000</td>\n",
       "      <td>1.000000</td>\n",
       "      <td>9391.346000</td>\n",
       "    </tr>\n",
       "    <tr>\n",
       "      <th>75%</th>\n",
       "      <td>51.000000</td>\n",
       "      <td>34.700000</td>\n",
       "      <td>2.000000</td>\n",
       "      <td>16776.304050</td>\n",
       "    </tr>\n",
       "    <tr>\n",
       "      <th>max</th>\n",
       "      <td>64.000000</td>\n",
       "      <td>53.130000</td>\n",
       "      <td>5.000000</td>\n",
       "      <td>63770.428010</td>\n",
       "    </tr>\n",
       "  </tbody>\n",
       "</table>\n",
       "</div>"
      ],
      "text/plain": [
       "               age          bmi     children       charges\n",
       "count  1329.000000  1329.000000  1329.000000   1329.000000\n",
       "mean     39.148984    30.670523     1.097818  13301.086602\n",
       "std      14.139806     6.102619     1.207183  12121.234360\n",
       "min       0.000000    15.960000     0.000000   1121.873900\n",
       "25%      26.000000    26.290000     0.000000   4747.052900\n",
       "50%      39.000000    30.360000     1.000000   9391.346000\n",
       "75%      51.000000    34.700000     2.000000  16776.304050\n",
       "max      64.000000    53.130000     5.000000  63770.428010"
      ]
     },
     "execution_count": 34,
     "metadata": {},
     "output_type": "execute_result"
    }
   ],
   "source": [
    "df.describe()"
   ]
  },
  {
   "cell_type": "code",
   "execution_count": 35,
   "id": "9621f860",
   "metadata": {
    "scrolled": true
   },
   "outputs": [
    {
     "data": {
      "image/png": "[encoded data removed]",
      "text/plain": [
       "<Figure size 432x288 with 1 Axes>"
      ]
     },
     "metadata": {
      "needs_background": "light"
     },
     "output_type": "display_data"
    }
   ],
   "source": [
    "sb.scatterplot(df['age'],df['charges']);"
   ]
  },
  {
   "cell_type": "code",
   "execution_count": 36,
   "id": "d1da513b",
   "metadata": {},
   "outputs": [
    {
     "data": {
      "image/png": "[encoded data removed]",
      "text/plain": [
       "<Figure size 432x288 with 1 Axes>"
      ]
     },
     "metadata": {
      "needs_background": "light"
     },
     "output_type": "display_data"
    }
   ],
   "source": [
    "sb.scatterplot(df['bmi'],df['charges']);"
   ]
  },
  {
   "cell_type": "code",
   "execution_count": 37,
   "id": "bb04a701",
   "metadata": {},
   "outputs": [
    {
     "name": "stdout",
     "output_type": "stream",
     "text": [
      "  classif       charges\n",
      "0      UW   7595.253968\n",
      "1       N  10448.399945\n",
      "2    PREO  10998.374214\n",
      "3     OB1  14516.468194\n",
      "4     OB3  16784.615546\n",
      "5     OB2  17090.900977\n"
     ]
    },
    {
     "data": {
      "image/png": "[encoded data removed]",
      "text/plain": [
       "<Figure size 432x288 with 1 Axes>"
      ]
     },
     "metadata": {
      "needs_background": "light"
     },
     "output_type": "display_data"
    }
   ],
   "source": [
    "a = df.groupby(by=['classif'])['charges'].mean().sort_values()\n",
    "a = a.to_frame().reset_index()\n",
    "print(a)\n",
    "sb.barplot(df['classif'],df['charges']);"
   ]
  },
  {
   "cell_type": "code",
   "execution_count": 38,
   "id": "08e5307e",
   "metadata": {},
   "outputs": [
    {
     "name": "stdout",
     "output_type": "stream",
     "text": [
      "      sex       charges\n",
      "0  female  12581.693320\n",
      "1    male  14002.307987\n"
     ]
    },
    {
     "data": {
      "image/png": "[encoded data removed]",
      "text/plain": [
       "<Figure size 432x288 with 1 Axes>"
      ]
     },
     "metadata": {
      "needs_background": "light"
     },
     "output_type": "display_data"
    }
   ],
   "source": [
    "b = df.groupby(by=['sex'])['charges'].mean().sort_values()\n",
    "b = b.to_frame().reset_index()\n",
    "print(b)\n",
    "sb.barplot(df['sex'],df['charges']);"
   ]
  },
  {
   "cell_type": "code",
   "execution_count": 39,
   "id": "5c124235",
   "metadata": {},
   "outputs": [
    {
     "name": "stdout",
     "output_type": "stream",
     "text": [
      "   children       charges\n",
      "0         5   8786.035247\n",
      "1         0  12419.918141\n",
      "2         1  12788.249657\n",
      "3         4  13850.656311\n",
      "4         2  15030.227966\n",
      "5         3  15355.318367\n"
     ]
    },
    {
     "data": {
      "image/png": "[encoded data removed]",
      "text/plain": [
       "<Figure size 432x288 with 1 Axes>"
      ]
     },
     "metadata": {
      "needs_background": "light"
     },
     "output_type": "display_data"
    }
   ],
   "source": [
    "c = df.groupby(by=['children'])['charges'].mean().sort_values()\n",
    "c = c.to_frame().reset_index()\n",
    "print(c)\n",
    "sb.barplot(df['children'],df['charges']);"
   ]
  },
  {
   "cell_type": "code",
   "execution_count": 40,
   "id": "1f6cfa29",
   "metadata": {},
   "outputs": [
    {
     "name": "stdout",
     "output_type": "stream",
     "text": [
      "  smoker       charges\n",
      "0     no   8454.654127\n",
      "1    yes  32047.726504\n"
     ]
    },
    {
     "data": {
      "image/png": "[encoded data removed]",
      "text/plain": [
       "<Figure size 432x288 with 1 Axes>"
      ]
     },
     "metadata": {
      "needs_background": "light"
     },
     "output_type": "display_data"
    }
   ],
   "source": [
    "d = df.groupby(by=['smoker'])['charges'].mean().sort_values()\n",
    "d = d.to_frame().reset_index()\n",
    "print(d)\n",
    "sb.barplot(df['smoker'],df['charges']);"
   ]
  },
  {
   "cell_type": "code",
   "execution_count": 41,
   "id": "b5938521",
   "metadata": {
    "scrolled": true
   },
   "outputs": [
    {
     "name": "stdout",
     "output_type": "stream",
     "text": [
      "      region       charges\n",
      "0  northwest  12419.254735\n",
      "1  southwest  12421.023590\n",
      "2  northeast  13435.681077\n",
      "3  southeast  14735.411438\n"
     ]
    },
    {
     "data": {
      "image/png": "[encoded data removed]",
      "text/plain": [
       "<Figure size 432x288 with 1 Axes>"
      ]
     },
     "metadata": {
      "needs_background": "light"
     },
     "output_type": "display_data"
    }
   ],
   "source": [
    "e = df.groupby(by=['region'])['charges'].mean().sort_values()\n",
    "e = e.to_frame().reset_index()\n",
    "print(e)\n",
    "sb.barplot(df['region'],df['charges']);"
   ]
  },
  {
   "cell_type": "code",
   "execution_count": 42,
   "id": "069a1a95",
   "metadata": {},
   "outputs": [
    {
     "data": {
      "image/png": "[encoded data removed]",
      "text/plain": [
       "<Figure size 432x288 with 1 Axes>"
      ]
     },
     "metadata": {
      "needs_background": "light"
     },
     "output_type": "display_data"
    }
   ],
   "source": [
    "sb.distplot(df['charges']);"
   ]
  },
  {
   "cell_type": "markdown",
   "id": "e680c2d3",
   "metadata": {},
   "source": [
    "## DATA PREPARATION FOR MACHINE LEARNING MODEL "
   ]
  },
  {
   "cell_type": "code",
   "execution_count": 43,
   "id": "a038f50d",
   "metadata": {},
   "outputs": [],
   "source": [
    "ml = df.copy()"
   ]
  },
  {
   "cell_type": "code",
   "execution_count": 44,
   "id": "7207f156",
   "metadata": {},
   "outputs": [
    {
     "data": {
      "text/plain": [
       "(1329, 8)"
      ]
     },
     "execution_count": 44,
     "metadata": {},
     "output_type": "execute_result"
    }
   ],
   "source": [
    "ml.shape"
   ]
  },
  {
   "cell_type": "code",
   "execution_count": 45,
   "id": "024a4a30",
   "metadata": {
    "scrolled": true
   },
   "outputs": [
    {
     "data": {
      "text/plain": [
       "Index(['age', 'sex', 'bmi', 'classif', 'children', 'smoker', 'region',\n",
       "       'charges'],\n",
       "      dtype='object')"
      ]
     },
     "execution_count": 45,
     "metadata": {},
     "output_type": "execute_result"
    }
   ],
   "source": [
    "ml.columns"
   ]
  },
  {
   "cell_type": "markdown",
   "id": "55535156",
   "metadata": {},
   "source": [
    "# checking relationship classif with charges "
   ]
  },
  {
   "cell_type": "code",
   "execution_count": 155,
   "id": "aeeaae1b",
   "metadata": {
    "scrolled": true
   },
   "outputs": [
    {
     "data": {
      "image/png": "[encoded data removed]",
      "text/plain": [
       "<Figure size 1080x504 with 1 Axes>"
      ]
     },
     "metadata": {
      "needs_background": "light"
     },
     "output_type": "display_data"
    }
   ],
   "source": [
    "\n",
    "plt.subplots(figsize=(15,7))\n",
    "ax=sb.boxplot(x='classif',y='charges',data=df)\n",
    "ax.set_xticklabels(ax.get_xticklabels(),rotation=40,ha='right')\n",
    "plt.show()"
   ]
  },
  {
   "cell_type": "markdown",
   "id": "a9506ff9",
   "metadata": {},
   "source": [
    "# checking relationship of charges with bmi "
   ]
  },
  {
   "cell_type": "code",
   "execution_count": 158,
   "id": "31e50e46",
   "metadata": {},
   "outputs": [
    {
     "data": {
      "image/png": "[encoded data removed]",
      "text/plain": [
       "<Figure size 756x504 with 1 Axes>"
      ]
     },
     "metadata": {
      "needs_background": "light"
     },
     "output_type": "display_data"
    }
   ],
   "source": [
    "sb.relplot(x='bmi',y='charges',data=df,height=7,aspect=1.5);\n"
   ]
  },
  {
   "cell_type": "code",
   "execution_count": null,
   "id": "04da0819",
   "metadata": {},
   "outputs": [],
   "source": []
  },
  {
   "cell_type": "code",
   "execution_count": null,
   "id": "452d3f45",
   "metadata": {},
   "outputs": [],
   "source": []
  },
  {
   "cell_type": "code",
   "execution_count": null,
   "id": "f921f523",
   "metadata": {},
   "outputs": [],
   "source": []
  },
  {
   "cell_type": "code",
   "execution_count": null,
   "id": "9e5052e9",
   "metadata": {},
   "outputs": [],
   "source": []
  },
  {
   "cell_type": "markdown",
   "id": "61acdf77",
   "metadata": {},
   "source": [
    "## feature engineering "
   ]
  },
  {
   "cell_type": "code",
   "execution_count": 46,
   "id": "ea293f0b",
   "metadata": {},
   "outputs": [
    {
     "name": "stdout",
     "output_type": "stream",
     "text": [
      "<class 'pandas.core.frame.DataFrame'>\n",
      "Int64Index: 1329 entries, 0 to 1337\n",
      "Data columns (total 8 columns):\n",
      " #   Column    Non-Null Count  Dtype  \n",
      "---  ------    --------------  -----  \n",
      " 0   age       1329 non-null   int64  \n",
      " 1   sex       1329 non-null   object \n",
      " 2   bmi       1329 non-null   float64\n",
      " 3   classif   1329 non-null   object \n",
      " 4   children  1329 non-null   int64  \n",
      " 5   smoker    1329 non-null   object \n",
      " 6   region    1329 non-null   object \n",
      " 7   charges   1329 non-null   float64\n",
      "dtypes: float64(2), int64(2), object(4)\n",
      "memory usage: 93.4+ KB\n"
     ]
    }
   ],
   "source": [
    "ml.info()"
   ]
  },
  {
   "cell_type": "code",
   "execution_count": 47,
   "id": "73a11c04",
   "metadata": {},
   "outputs": [],
   "source": [
    "ml.sex=ml.sex.astype('category')\n",
    "ml.smoker=ml.smoker.astype('category')\n",
    "ml.region=ml.region.astype('category')\n",
    "ml.classif=ml.classif.astype('category')"
   ]
  },
  {
   "cell_type": "code",
   "execution_count": 48,
   "id": "7fef5eea",
   "metadata": {},
   "outputs": [
    {
     "name": "stdout",
     "output_type": "stream",
     "text": [
      "<class 'pandas.core.frame.DataFrame'>\n",
      "Int64Index: 1329 entries, 0 to 1337\n",
      "Data columns (total 8 columns):\n",
      " #   Column    Non-Null Count  Dtype   \n",
      "---  ------    --------------  -----   \n",
      " 0   age       1329 non-null   int64   \n",
      " 1   sex       1329 non-null   category\n",
      " 2   bmi       1329 non-null   float64 \n",
      " 3   classif   1329 non-null   category\n",
      " 4   children  1329 non-null   int64   \n",
      " 5   smoker    1329 non-null   category\n",
      " 6   region    1329 non-null   category\n",
      " 7   charges   1329 non-null   float64 \n",
      "dtypes: category(4), float64(2), int64(2)\n",
      "memory usage: 57.8 KB\n"
     ]
    }
   ],
   "source": [
    "ml.info()"
   ]
  },
  {
   "cell_type": "code",
   "execution_count": 49,
   "id": "81bca2dc",
   "metadata": {},
   "outputs": [],
   "source": [
    "from sklearn import preprocessing \n",
    "label_encoder=preprocessing.LabelEncoder()\n",
    "# Encode Label in column 'species \n",
    "ml['sex']=label_encoder.fit_transform(ml['sex'])\n",
    "ml['smoker']=label_encoder.fit_transform(ml['smoker'])\n",
    "ml['region']=label_encoder.fit_transform(ml['region'])\n",
    "ml['classif']=label_encoder.fit_transform(ml['classif'])"
   ]
  },
  {
   "cell_type": "code",
   "execution_count": 50,
   "id": "9b279ca1",
   "metadata": {},
   "outputs": [
    {
     "name": "stdout",
     "output_type": "stream",
     "text": [
      "<class 'pandas.core.frame.DataFrame'>\n",
      "Int64Index: 1329 entries, 0 to 1337\n",
      "Data columns (total 8 columns):\n",
      " #   Column    Non-Null Count  Dtype  \n",
      "---  ------    --------------  -----  \n",
      " 0   age       1329 non-null   int64  \n",
      " 1   sex       1329 non-null   int32  \n",
      " 2   bmi       1329 non-null   float64\n",
      " 3   classif   1329 non-null   int32  \n",
      " 4   children  1329 non-null   int64  \n",
      " 5   smoker    1329 non-null   int32  \n",
      " 6   region    1329 non-null   int32  \n",
      " 7   charges   1329 non-null   float64\n",
      "dtypes: float64(2), int32(4), int64(2)\n",
      "memory usage: 72.7 KB\n"
     ]
    }
   ],
   "source": [
    "ml.info()"
   ]
  },
  {
   "cell_type": "markdown",
   "id": "b93175d0",
   "metadata": {},
   "source": [
    "## feature scailing "
   ]
  },
  {
   "cell_type": "code",
   "execution_count": 51,
   "id": "5a3e4713",
   "metadata": {},
   "outputs": [],
   "source": [
    "from sklearn.preprocessing import MinMaxScaler\n",
    "from sklearn.preprocessing import StandardScaler"
   ]
  },
  {
   "cell_type": "code",
   "execution_count": 52,
   "id": "3c5d7129",
   "metadata": {},
   "outputs": [],
   "source": [
    "# defining method to perform data scaling operation based on the type of scaling \n",
    "def feature_scale(scale):\n",
    "  numerics=['int16','int32','int64','float16','float32','float64']\n",
    "  new_df=ml.select_dtypes(include=numerics)\n",
    "  if scale == 'minmax':\n",
    "    scaler= MinMaxScaler()\n",
    "  else:\n",
    "    scaler=StandardScaler()\n",
    "  df_scaled=pd.DataFrame(scaler.fit_transform(new_df.to_numpy()),columns=new_df.columns)\n",
    "  return df_scaled"
   ]
  },
  {
   "cell_type": "code",
   "execution_count": 53,
   "id": "fbc1b55d",
   "metadata": {},
   "outputs": [
    {
     "data": {
      "text/plain": [
       "Index(['age', 'sex', 'bmi', 'classif', 'children', 'smoker', 'region',\n",
       "       'charges'],\n",
       "      dtype='object')"
      ]
     },
     "execution_count": 53,
     "metadata": {},
     "output_type": "execute_result"
    }
   ],
   "source": [
    "# scaling data using minmax scaling process\n",
    "scale='minmax'\n",
    "scaled_df=feature_scale(scale)\n",
    "scaled_df.columns"
   ]
  },
  {
   "cell_type": "code",
   "execution_count": 54,
   "id": "0c1698f6",
   "metadata": {},
   "outputs": [
    {
     "data": {
      "text/html": [
       "<div>\n",
       "<style scoped>\n",
       "    .dataframe tbody tr th:only-of-type {\n",
       "        vertical-align: middle;\n",
       "    }\n",
       "\n",
       "    .dataframe tbody tr th {\n",
       "        vertical-align: top;\n",
       "    }\n",
       "\n",
       "    .dataframe thead th {\n",
       "        text-align: right;\n",
       "    }\n",
       "</style>\n",
       "<table border=\"1\" class=\"dataframe\">\n",
       "  <thead>\n",
       "    <tr style=\"text-align: right;\">\n",
       "      <th></th>\n",
       "      <th>age</th>\n",
       "      <th>sex</th>\n",
       "      <th>bmi</th>\n",
       "      <th>classif</th>\n",
       "      <th>children</th>\n",
       "      <th>smoker</th>\n",
       "      <th>region</th>\n",
       "      <th>charges</th>\n",
       "    </tr>\n",
       "  </thead>\n",
       "  <tbody>\n",
       "    <tr>\n",
       "      <th>0</th>\n",
       "      <td>0.296875</td>\n",
       "      <td>0.0</td>\n",
       "      <td>0.321227</td>\n",
       "      <td>0.8</td>\n",
       "      <td>0.0</td>\n",
       "      <td>1.0</td>\n",
       "      <td>1.000000</td>\n",
       "      <td>0.251611</td>\n",
       "    </tr>\n",
       "    <tr>\n",
       "      <th>1</th>\n",
       "      <td>0.281250</td>\n",
       "      <td>1.0</td>\n",
       "      <td>0.479150</td>\n",
       "      <td>0.2</td>\n",
       "      <td>0.2</td>\n",
       "      <td>0.0</td>\n",
       "      <td>0.666667</td>\n",
       "      <td>0.009636</td>\n",
       "    </tr>\n",
       "    <tr>\n",
       "      <th>2</th>\n",
       "      <td>0.437500</td>\n",
       "      <td>1.0</td>\n",
       "      <td>0.458434</td>\n",
       "      <td>0.2</td>\n",
       "      <td>0.6</td>\n",
       "      <td>0.0</td>\n",
       "      <td>0.666667</td>\n",
       "      <td>0.053115</td>\n",
       "    </tr>\n",
       "    <tr>\n",
       "      <th>3</th>\n",
       "      <td>0.000000</td>\n",
       "      <td>1.0</td>\n",
       "      <td>0.181464</td>\n",
       "      <td>0.0</td>\n",
       "      <td>0.0</td>\n",
       "      <td>0.0</td>\n",
       "      <td>0.333333</td>\n",
       "      <td>0.333010</td>\n",
       "    </tr>\n",
       "    <tr>\n",
       "      <th>4</th>\n",
       "      <td>0.500000</td>\n",
       "      <td>1.0</td>\n",
       "      <td>0.347592</td>\n",
       "      <td>0.8</td>\n",
       "      <td>0.0</td>\n",
       "      <td>0.0</td>\n",
       "      <td>0.333333</td>\n",
       "      <td>0.043816</td>\n",
       "    </tr>\n",
       "  </tbody>\n",
       "</table>\n",
       "</div>"
      ],
      "text/plain": [
       "        age  sex       bmi  classif  children  smoker    region   charges\n",
       "0  0.296875  0.0  0.321227      0.8       0.0     1.0  1.000000  0.251611\n",
       "1  0.281250  1.0  0.479150      0.2       0.2     0.0  0.666667  0.009636\n",
       "2  0.437500  1.0  0.458434      0.2       0.6     0.0  0.666667  0.053115\n",
       "3  0.000000  1.0  0.181464      0.0       0.0     0.0  0.333333  0.333010\n",
       "4  0.500000  1.0  0.347592      0.8       0.0     0.0  0.333333  0.043816"
      ]
     },
     "execution_count": 54,
     "metadata": {},
     "output_type": "execute_result"
    }
   ],
   "source": [
    "scaled_df.head()"
   ]
  },
  {
   "cell_type": "markdown",
   "id": "f1997802",
   "metadata": {},
   "source": [
    "## identifying the independent and dependent features "
   ]
  },
  {
   "cell_type": "code",
   "execution_count": 55,
   "id": "4d6d875b",
   "metadata": {},
   "outputs": [],
   "source": [
    "x = scaled_df.iloc[:,0:7]\n",
    "y = scaled_df.iloc[:,-1]"
   ]
  },
  {
   "cell_type": "markdown",
   "id": "ce91bff0",
   "metadata": {},
   "source": [
    "### dataframe "
   ]
  },
  {
   "cell_type": "code",
   "execution_count": 56,
   "id": "33cedda6",
   "metadata": {},
   "outputs": [
    {
     "name": "stdout",
     "output_type": "stream",
     "text": [
      "(1329, 7)\n",
      "(1329,)\n"
     ]
    }
   ],
   "source": [
    "print(x.shape)\n",
    "print(y.shape)"
   ]
  },
  {
   "cell_type": "code",
   "execution_count": 57,
   "id": "6434ed4c",
   "metadata": {
    "scrolled": true
   },
   "outputs": [
    {
     "data": {
      "text/html": [
       "<div>\n",
       "<style scoped>\n",
       "    .dataframe tbody tr th:only-of-type {\n",
       "        vertical-align: middle;\n",
       "    }\n",
       "\n",
       "    .dataframe tbody tr th {\n",
       "        vertical-align: top;\n",
       "    }\n",
       "\n",
       "    .dataframe thead th {\n",
       "        text-align: right;\n",
       "    }\n",
       "</style>\n",
       "<table border=\"1\" class=\"dataframe\">\n",
       "  <thead>\n",
       "    <tr style=\"text-align: right;\">\n",
       "      <th></th>\n",
       "      <th>age</th>\n",
       "      <th>sex</th>\n",
       "      <th>bmi</th>\n",
       "      <th>classif</th>\n",
       "      <th>children</th>\n",
       "      <th>smoker</th>\n",
       "      <th>region</th>\n",
       "    </tr>\n",
       "  </thead>\n",
       "  <tbody>\n",
       "    <tr>\n",
       "      <th>0</th>\n",
       "      <td>0.296875</td>\n",
       "      <td>0.0</td>\n",
       "      <td>0.321227</td>\n",
       "      <td>0.8</td>\n",
       "      <td>0.0</td>\n",
       "      <td>1.0</td>\n",
       "      <td>1.0</td>\n",
       "    </tr>\n",
       "  </tbody>\n",
       "</table>\n",
       "</div>"
      ],
      "text/plain": [
       "        age  sex       bmi  classif  children  smoker  region\n",
       "0  0.296875  0.0  0.321227      0.8       0.0     1.0     1.0"
      ]
     },
     "execution_count": 57,
     "metadata": {},
     "output_type": "execute_result"
    }
   ],
   "source": [
    "x.head(1)"
   ]
  },
  {
   "cell_type": "code",
   "execution_count": 58,
   "id": "7409d140",
   "metadata": {},
   "outputs": [
    {
     "data": {
      "text/plain": [
       "0    0.251611\n",
       "Name: charges, dtype: float64"
      ]
     },
     "execution_count": 58,
     "metadata": {},
     "output_type": "execute_result"
    }
   ],
   "source": [
    "y.head(1)"
   ]
  },
  {
   "cell_type": "markdown",
   "id": "0155baef",
   "metadata": {},
   "source": [
    "#### numpy "
   ]
  },
  {
   "cell_type": "code",
   "execution_count": 59,
   "id": "abcc4dd7",
   "metadata": {},
   "outputs": [
    {
     "name": "stdout",
     "output_type": "stream",
     "text": [
      "(1329, 7)\n",
      "(1329,)\n"
     ]
    }
   ],
   "source": [
    "x_n = scaled_df.iloc[:,0:7].values\n",
    "y_n = scaled_df.iloc[:,-1].values\n",
    "print(x_n.shape)\n",
    "print(y_n.shape)"
   ]
  },
  {
   "cell_type": "code",
   "execution_count": 60,
   "id": "4fa6c174",
   "metadata": {},
   "outputs": [
    {
     "data": {
      "text/plain": [
       "array([[0.296875  , 0.        , 0.3212268 , ..., 0.        , 1.        ,\n",
       "        1.        ],\n",
       "       [0.28125   , 1.        , 0.47914985, ..., 0.2       , 0.        ,\n",
       "        0.66666667],\n",
       "       [0.4375    , 1.        , 0.45843422, ..., 0.6       , 0.        ,\n",
       "        0.66666667],\n",
       "       ...,\n",
       "       [0.28125   , 0.        , 0.56201238, ..., 0.        , 0.        ,\n",
       "        0.66666667],\n",
       "       [0.328125  , 0.        , 0.26472962, ..., 0.        , 0.        ,\n",
       "        1.        ],\n",
       "       [0.015625  , 0.        , 0.35270379, ..., 0.        , 1.        ,\n",
       "        0.33333333]])"
      ]
     },
     "execution_count": 60,
     "metadata": {},
     "output_type": "execute_result"
    }
   ],
   "source": [
    "x_n"
   ]
  },
  {
   "cell_type": "code",
   "execution_count": 61,
   "id": "3d6f34c6",
   "metadata": {},
   "outputs": [
    {
     "data": {
      "text/plain": [
       "array([0.25161076, 0.00963595, 0.05311516, ..., 0.00810808, 0.01414352,\n",
       "       0.44724873])"
      ]
     },
     "execution_count": 61,
     "metadata": {},
     "output_type": "execute_result"
    }
   ],
   "source": [
    "y_n"
   ]
  },
  {
   "cell_type": "code",
   "execution_count": 62,
   "id": "b373735c",
   "metadata": {},
   "outputs": [
    {
     "data": {
      "text/html": [
       "<div>\n",
       "<style scoped>\n",
       "    .dataframe tbody tr th:only-of-type {\n",
       "        vertical-align: middle;\n",
       "    }\n",
       "\n",
       "    .dataframe tbody tr th {\n",
       "        vertical-align: top;\n",
       "    }\n",
       "\n",
       "    .dataframe thead th {\n",
       "        text-align: right;\n",
       "    }\n",
       "</style>\n",
       "<table border=\"1\" class=\"dataframe\">\n",
       "  <thead>\n",
       "    <tr style=\"text-align: right;\">\n",
       "      <th></th>\n",
       "      <th>age</th>\n",
       "      <th>sex</th>\n",
       "      <th>bmi</th>\n",
       "      <th>classif</th>\n",
       "      <th>children</th>\n",
       "      <th>smoker</th>\n",
       "      <th>region</th>\n",
       "      <th>charges</th>\n",
       "    </tr>\n",
       "  </thead>\n",
       "  <tbody>\n",
       "    <tr>\n",
       "      <th>age</th>\n",
       "      <td>1.000000</td>\n",
       "      <td>-0.022602</td>\n",
       "      <td>0.114692</td>\n",
       "      <td>0.007158</td>\n",
       "      <td>0.047451</td>\n",
       "      <td>-0.029868</td>\n",
       "      <td>0.009800</td>\n",
       "      <td>0.290760</td>\n",
       "    </tr>\n",
       "    <tr>\n",
       "      <th>sex</th>\n",
       "      <td>-0.022602</td>\n",
       "      <td>1.000000</td>\n",
       "      <td>0.046570</td>\n",
       "      <td>-0.009379</td>\n",
       "      <td>0.015176</td>\n",
       "      <td>0.077313</td>\n",
       "      <td>0.002906</td>\n",
       "      <td>0.058618</td>\n",
       "    </tr>\n",
       "    <tr>\n",
       "      <th>bmi</th>\n",
       "      <td>0.114692</td>\n",
       "      <td>0.046570</td>\n",
       "      <td>1.000000</td>\n",
       "      <td>0.083867</td>\n",
       "      <td>0.015256</td>\n",
       "      <td>0.007113</td>\n",
       "      <td>0.158637</td>\n",
       "      <td>0.202033</td>\n",
       "    </tr>\n",
       "    <tr>\n",
       "      <th>classif</th>\n",
       "      <td>0.007158</td>\n",
       "      <td>-0.009379</td>\n",
       "      <td>0.083867</td>\n",
       "      <td>1.000000</td>\n",
       "      <td>-0.029261</td>\n",
       "      <td>-0.010536</td>\n",
       "      <td>0.015196</td>\n",
       "      <td>-0.038830</td>\n",
       "    </tr>\n",
       "    <tr>\n",
       "      <th>children</th>\n",
       "      <td>0.047451</td>\n",
       "      <td>0.015176</td>\n",
       "      <td>0.015256</td>\n",
       "      <td>-0.029261</td>\n",
       "      <td>1.000000</td>\n",
       "      <td>0.005087</td>\n",
       "      <td>0.015356</td>\n",
       "      <td>0.065566</td>\n",
       "    </tr>\n",
       "    <tr>\n",
       "      <th>smoker</th>\n",
       "      <td>-0.029868</td>\n",
       "      <td>0.077313</td>\n",
       "      <td>0.007113</td>\n",
       "      <td>-0.010536</td>\n",
       "      <td>0.005087</td>\n",
       "      <td>1.000000</td>\n",
       "      <td>-0.000506</td>\n",
       "      <td>0.786664</td>\n",
       "    </tr>\n",
       "    <tr>\n",
       "      <th>region</th>\n",
       "      <td>0.009800</td>\n",
       "      <td>0.002906</td>\n",
       "      <td>0.158637</td>\n",
       "      <td>0.015196</td>\n",
       "      <td>0.015356</td>\n",
       "      <td>-0.000506</td>\n",
       "      <td>1.000000</td>\n",
       "      <td>-0.004859</td>\n",
       "    </tr>\n",
       "    <tr>\n",
       "      <th>charges</th>\n",
       "      <td>0.290760</td>\n",
       "      <td>0.058618</td>\n",
       "      <td>0.202033</td>\n",
       "      <td>-0.038830</td>\n",
       "      <td>0.065566</td>\n",
       "      <td>0.786664</td>\n",
       "      <td>-0.004859</td>\n",
       "      <td>1.000000</td>\n",
       "    </tr>\n",
       "  </tbody>\n",
       "</table>\n",
       "</div>"
      ],
      "text/plain": [
       "               age       sex       bmi   classif  children    smoker  \\\n",
       "age       1.000000 -0.022602  0.114692  0.007158  0.047451 -0.029868   \n",
       "sex      -0.022602  1.000000  0.046570 -0.009379  0.015176  0.077313   \n",
       "bmi       0.114692  0.046570  1.000000  0.083867  0.015256  0.007113   \n",
       "classif   0.007158 -0.009379  0.083867  1.000000 -0.029261 -0.010536   \n",
       "children  0.047451  0.015176  0.015256 -0.029261  1.000000  0.005087   \n",
       "smoker   -0.029868  0.077313  0.007113 -0.010536  0.005087  1.000000   \n",
       "region    0.009800  0.002906  0.158637  0.015196  0.015356 -0.000506   \n",
       "charges   0.290760  0.058618  0.202033 -0.038830  0.065566  0.786664   \n",
       "\n",
       "            region   charges  \n",
       "age       0.009800  0.290760  \n",
       "sex       0.002906  0.058618  \n",
       "bmi       0.158637  0.202033  \n",
       "classif   0.015196 -0.038830  \n",
       "children  0.015356  0.065566  \n",
       "smoker   -0.000506  0.786664  \n",
       "region    1.000000 -0.004859  \n",
       "charges  -0.004859  1.000000  "
      ]
     },
     "execution_count": 62,
     "metadata": {},
     "output_type": "execute_result"
    }
   ],
   "source": [
    "correlation = scaled_df.corr()\n",
    "correlation"
   ]
  },
  {
   "cell_type": "code",
   "execution_count": 63,
   "id": "440d462f",
   "metadata": {},
   "outputs": [
    {
     "data": {
      "image/png": "[encoded data removed]",
      "text/plain": [
       "<Figure size 1080x576 with 2 Axes>"
      ]
     },
     "metadata": {
      "needs_background": "light"
     },
     "output_type": "display_data"
    }
   ],
   "source": [
    "plt.figure(figsize=(15,8))\n",
    "sb.heatmap(data = correlation,annot = True,cmap = 'RdYlBu' );"
   ]
  },
  {
   "cell_type": "markdown",
   "id": "1a996b6c",
   "metadata": {},
   "source": [
    "# splitting the data for traininjg and testing "
   ]
  },
  {
   "cell_type": "code",
   "execution_count": 64,
   "id": "7b9aaa66",
   "metadata": {},
   "outputs": [
    {
     "name": "stdout",
     "output_type": "stream",
     "text": [
      "(930, 7) (399, 7) (930,) (399,)\n"
     ]
    }
   ],
   "source": [
    "# train_test split \n",
    "from sklearn.model_selection import train_test_split \n",
    "x_train,x_test,y_train,y_test = train_test_split(x,y,test_size =.3 ,random_state = 30 )\n",
    "print(x_train.shape,x_test.shape,y_train.shape,y_test.shape)"
   ]
  },
  {
   "cell_type": "code",
   "execution_count": 65,
   "id": "3840ef53",
   "metadata": {},
   "outputs": [
    {
     "data": {
      "text/html": [
       "<div>\n",
       "<style scoped>\n",
       "    .dataframe tbody tr th:only-of-type {\n",
       "        vertical-align: middle;\n",
       "    }\n",
       "\n",
       "    .dataframe tbody tr th {\n",
       "        vertical-align: top;\n",
       "    }\n",
       "\n",
       "    .dataframe thead th {\n",
       "        text-align: right;\n",
       "    }\n",
       "</style>\n",
       "<table border=\"1\" class=\"dataframe\">\n",
       "  <thead>\n",
       "    <tr style=\"text-align: right;\">\n",
       "      <th></th>\n",
       "      <th>age</th>\n",
       "      <th>sex</th>\n",
       "      <th>bmi</th>\n",
       "      <th>classif</th>\n",
       "      <th>children</th>\n",
       "      <th>smoker</th>\n",
       "      <th>region</th>\n",
       "    </tr>\n",
       "  </thead>\n",
       "  <tbody>\n",
       "    <tr>\n",
       "      <th>302</th>\n",
       "      <td>0.4375</td>\n",
       "      <td>0.0</td>\n",
       "      <td>0.310465</td>\n",
       "      <td>0.8</td>\n",
       "      <td>0.4</td>\n",
       "      <td>0.0</td>\n",
       "      <td>1.0</td>\n",
       "    </tr>\n",
       "  </tbody>\n",
       "</table>\n",
       "</div>"
      ],
      "text/plain": [
       "        age  sex       bmi  classif  children  smoker  region\n",
       "302  0.4375  0.0  0.310465      0.8       0.4     0.0     1.0"
      ]
     },
     "execution_count": 65,
     "metadata": {},
     "output_type": "execute_result"
    }
   ],
   "source": [
    "x_train.head(1)"
   ]
  },
  {
   "cell_type": "code",
   "execution_count": 66,
   "id": "e11b92fa",
   "metadata": {},
   "outputs": [
    {
     "data": {
      "text/html": [
       "<div>\n",
       "<style scoped>\n",
       "    .dataframe tbody tr th:only-of-type {\n",
       "        vertical-align: middle;\n",
       "    }\n",
       "\n",
       "    .dataframe tbody tr th {\n",
       "        vertical-align: top;\n",
       "    }\n",
       "\n",
       "    .dataframe thead th {\n",
       "        text-align: right;\n",
       "    }\n",
       "</style>\n",
       "<table border=\"1\" class=\"dataframe\">\n",
       "  <thead>\n",
       "    <tr style=\"text-align: right;\">\n",
       "      <th></th>\n",
       "      <th>age</th>\n",
       "      <th>sex</th>\n",
       "      <th>bmi</th>\n",
       "      <th>classif</th>\n",
       "      <th>children</th>\n",
       "      <th>smoker</th>\n",
       "      <th>region</th>\n",
       "    </tr>\n",
       "  </thead>\n",
       "  <tbody>\n",
       "    <tr>\n",
       "      <th>648</th>\n",
       "      <td>0.921875</td>\n",
       "      <td>0.0</td>\n",
       "      <td>0.517622</td>\n",
       "      <td>0.4</td>\n",
       "      <td>0.0</td>\n",
       "      <td>0.0</td>\n",
       "      <td>0.666667</td>\n",
       "    </tr>\n",
       "  </tbody>\n",
       "</table>\n",
       "</div>"
      ],
      "text/plain": [
       "          age  sex       bmi  classif  children  smoker    region\n",
       "648  0.921875  0.0  0.517622      0.4       0.0     0.0  0.666667"
      ]
     },
     "execution_count": 66,
     "metadata": {},
     "output_type": "execute_result"
    }
   ],
   "source": [
    "x_test.head(1)"
   ]
  },
  {
   "cell_type": "code",
   "execution_count": 67,
   "id": "f88811b7",
   "metadata": {},
   "outputs": [
    {
     "data": {
      "text/plain": [
       "302     0.304170\n",
       "973     0.053927\n",
       "61      0.463614\n",
       "788     0.274370\n",
       "1100    0.028448\n",
       "          ...   \n",
       "919     0.174153\n",
       "1164    0.159170\n",
       "500     0.077456\n",
       "941     0.300272\n",
       "421     0.138343\n",
       "Name: charges, Length: 930, dtype: float64"
      ]
     },
     "execution_count": 67,
     "metadata": {},
     "output_type": "execute_result"
    }
   ],
   "source": [
    "y_train"
   ]
  },
  {
   "cell_type": "code",
   "execution_count": 68,
   "id": "1add60f3",
   "metadata": {},
   "outputs": [
    {
     "data": {
      "text/plain": [
       "648     0.177541\n",
       "1322    0.183680\n",
       "1098    0.125562\n",
       "128     0.199438\n",
       "327     0.371465\n",
       "          ...   \n",
       "838     0.139681\n",
       "591     0.071398\n",
       "884     0.148464\n",
       "1257    0.411895\n",
       "1221    0.172652\n",
       "Name: charges, Length: 399, dtype: float64"
      ]
     },
     "execution_count": 68,
     "metadata": {},
     "output_type": "execute_result"
    }
   ],
   "source": [
    "y_test"
   ]
  },
  {
   "cell_type": "code",
   "execution_count": 69,
   "id": "100ed1c5",
   "metadata": {},
   "outputs": [
    {
     "data": {
      "text/plain": [
       "Index(['age', 'sex', 'bmi', 'classif', 'children', 'smoker', 'region',\n",
       "       'charges'],\n",
       "      dtype='object')"
      ]
     },
     "execution_count": 69,
     "metadata": {},
     "output_type": "execute_result"
    }
   ],
   "source": [
    "scaled_df.columns"
   ]
  },
  {
   "cell_type": "markdown",
   "id": "497b5e8b",
   "metadata": {},
   "source": [
    "# linear regression "
   ]
  },
  {
   "cell_type": "code",
   "execution_count": 70,
   "id": "d8782268",
   "metadata": {},
   "outputs": [],
   "source": [
    "from sklearn.linear_model import LinearRegression\n",
    "\n",
    "from sklearn.metrics import r2_score,mean_absolute_error\n"
   ]
  },
  {
   "cell_type": "code",
   "execution_count": null,
   "id": "37a0c4a7",
   "metadata": {},
   "outputs": [],
   "source": []
  },
  {
   "cell_type": "code",
   "execution_count": 71,
   "id": "a2296205",
   "metadata": {},
   "outputs": [
    {
     "name": "stdout",
     "output_type": "stream",
     "text": [
      "r2 score 0.748731235763133\n"
     ]
    }
   ],
   "source": [
    "lr=LinearRegression()\n",
    "s_model =lr.fit(x_train,y_train)\n",
    "y_predict=s_model.predict(x_test)\n",
    "print(\"r2 score\",r2_score(y_test,y_predict))"
   ]
  },
  {
   "cell_type": "code",
   "execution_count": null,
   "id": "4ecec242",
   "metadata": {},
   "outputs": [],
   "source": []
  },
  {
   "cell_type": "code",
   "execution_count": 72,
   "id": "c1833cdd",
   "metadata": {},
   "outputs": [],
   "source": [
    "scores=[]\n",
    "for i in range(1000):\n",
    "    x_train,x_test,y_train,y_test = train_test_split(x,y,test_size =.3 ,random_state = i )\n",
    "    lr=LinearRegression()\n",
    "    s_model =lr.fit(x_train,y_train)\n",
    "    y_predict=s_model.predict(x_test)\n",
    "#     print(\"r2 score\",r2_score(y_test,y_predict))\n",
    "    scores.append(r2_score(y_test,y_predict))"
   ]
  },
  {
   "cell_type": "code",
   "execution_count": 73,
   "id": "0fd7d2a0",
   "metadata": {},
   "outputs": [
    {
     "data": {
      "text/plain": [
       "[0.7187447110789211,\n",
       " 0.6984920454568675,\n",
       " 0.7003671592069194,\n",
       " 0.7477855811910095,\n",
       " 0.7175187016964094,\n",
       " 0.7583090158069282,\n",
       " 0.7615242083263867,\n",
       " 0.700620116312628,\n",
       " 0.7215718879638378,\n",
       " 0.76552339280493,\n",
       " 0.7763851489398615,\n",
       " 0.7501706463470564,\n",
       " 0.6596482120679803,\n",
       " 0.7322947993249501,\n",
       " 0.7713952736581111,\n",
       " 0.7677039685963332,\n",
       " 0.732919833057393,\n",
       " 0.7684950889213381,\n",
       " 0.7411190990534648,\n",
       " 0.757141226880618,\n",
       " 0.7512135422630678,\n",
       " 0.74362264184111,\n",
       " 0.7475787797463296,\n",
       " 0.7490453836336705,\n",
       " 0.7450923915236626,\n",
       " 0.7293815871580861,\n",
       " 0.7555397509364701,\n",
       " 0.7187302282566288,\n",
       " 0.7773388154120084,\n",
       " 0.7632425788161715,\n",
       " 0.748731235763133,\n",
       " 0.7299115405675987,\n",
       " 0.6955181372710441,\n",
       " 0.7692382316238594,\n",
       " 0.6756930014056628,\n",
       " 0.7699872366510868,\n",
       " 0.7527138431529118,\n",
       " 0.7549810658817159,\n",
       " 0.7553389882308723,\n",
       " 0.7136880051250616,\n",
       " 0.7443036030742181,\n",
       " 0.7594168042703832,\n",
       " 0.7676500439823909,\n",
       " 0.773027608772185,\n",
       " 0.7673849537973656,\n",
       " 0.7380368292011367,\n",
       " 0.706233686143195,\n",
       " 0.7369360890462056,\n",
       " 0.7244042269368862,\n",
       " 0.7392692372803418,\n",
       " 0.7506088251630584,\n",
       " 0.7486588513985406,\n",
       " 0.7686592862490824,\n",
       " 0.744257144233762,\n",
       " 0.7146202740321953,\n",
       " 0.7816142249435267,\n",
       " 0.7612048813789497,\n",
       " 0.7145674268394644,\n",
       " 0.7484688921892662,\n",
       " 0.7386166914830153,\n",
       " 0.7294286553505205,\n",
       " 0.7586277646344786,\n",
       " 0.7438958231195184,\n",
       " 0.7708742323934819,\n",
       " 0.7387946757183923,\n",
       " 0.7189217556868639,\n",
       " 0.7450236899246262,\n",
       " 0.7145772807337871,\n",
       " 0.7596806467412739,\n",
       " 0.7744865516396512,\n",
       " 0.7052627712971362,\n",
       " 0.7054269785416312,\n",
       " 0.7222543063398683,\n",
       " 0.7343326436102646,\n",
       " 0.7065289752088313,\n",
       " 0.7641101412939179,\n",
       " 0.758356620978546,\n",
       " 0.7517862000064092,\n",
       " 0.7284267214987025,\n",
       " 0.7165674974295358,\n",
       " 0.7907435917530734,\n",
       " 0.7284100302594021,\n",
       " 0.7433985493253752,\n",
       " 0.7562083489357314,\n",
       " 0.7546871166547917,\n",
       " 0.7436333396364212,\n",
       " 0.764828913048671,\n",
       " 0.7349594870957956,\n",
       " 0.7640268405392971,\n",
       " 0.7432858316284991,\n",
       " 0.7927750397793217,\n",
       " 0.7566656378123856,\n",
       " 0.7839167291364046,\n",
       " 0.7824731245090013,\n",
       " 0.7338753387739636,\n",
       " 0.7261885754389227,\n",
       " 0.7275396686481659,\n",
       " 0.7701036461716582,\n",
       " 0.7201673960833153,\n",
       " 0.7181475320781942,\n",
       " 0.759620477366092,\n",
       " 0.7556620665409908,\n",
       " 0.746970306715883,\n",
       " 0.7576955713034564,\n",
       " 0.7049480281099233,\n",
       " 0.7591295849753673,\n",
       " 0.7486025580111015,\n",
       " 0.7182640156729636,\n",
       " 0.7146099009395317,\n",
       " 0.7468574677698733,\n",
       " 0.7491513244319855,\n",
       " 0.763912806866877,\n",
       " 0.7567587963894122,\n",
       " 0.7328644025321787,\n",
       " 0.7679827870523777,\n",
       " 0.7315568636614116,\n",
       " 0.7359217250008669,\n",
       " 0.7719671200727622,\n",
       " 0.7819367980227118,\n",
       " 0.7643047801332339,\n",
       " 0.7415909888608351,\n",
       " 0.7287653593802135,\n",
       " 0.7208621339447546,\n",
       " 0.7749158641560436,\n",
       " 0.7495432430406281,\n",
       " 0.7829340443250336,\n",
       " 0.779666696611127,\n",
       " 0.726071178685551,\n",
       " 0.7429898618889887,\n",
       " 0.7576485307102497,\n",
       " 0.7486193990360751,\n",
       " 0.7276066042869294,\n",
       " 0.7326628610880823,\n",
       " 0.7435652158176029,\n",
       " 0.7272747535829387,\n",
       " 0.6970535820837116,\n",
       " 0.7504486659012114,\n",
       " 0.7712581706758853,\n",
       " 0.777090132388533,\n",
       " 0.7811812054283034,\n",
       " 0.7547569473662257,\n",
       " 0.7785888262338171,\n",
       " 0.7697081383962996,\n",
       " 0.7164920348674186,\n",
       " 0.7491495993228794,\n",
       " 0.7292351387848865,\n",
       " 0.7458019936008816,\n",
       " 0.7433038118773981,\n",
       " 0.751299975026944,\n",
       " 0.7331155367392652,\n",
       " 0.695296590815329,\n",
       " 0.7351255119360296,\n",
       " 0.711702044372762,\n",
       " 0.7973268231191638,\n",
       " 0.6995959607304167,\n",
       " 0.7521959468315289,\n",
       " 0.7202757318520089,\n",
       " 0.7664297898705109,\n",
       " 0.7306468275977691,\n",
       " 0.7726611179204965,\n",
       " 0.7276677311323745,\n",
       " 0.751998740652996,\n",
       " 0.7401272403894721,\n",
       " 0.7424615875378722,\n",
       " 0.7343803102651778,\n",
       " 0.7307285730007054,\n",
       " 0.7250943642412587,\n",
       " 0.787710738811457,\n",
       " 0.7275407561401328,\n",
       " 0.7550568542198203,\n",
       " 0.7139667768578307,\n",
       " 0.7540130730108399,\n",
       " 0.7176020677642756,\n",
       " 0.7533350507325145,\n",
       " 0.6898038693703684,\n",
       " 0.7605486217011358,\n",
       " 0.7518206563051646,\n",
       " 0.7381417999507383,\n",
       " 0.7105352247345371,\n",
       " 0.7773510005421098,\n",
       " 0.7424910020040868,\n",
       " 0.7588485756869656,\n",
       " 0.7486475713427257,\n",
       " 0.7748302003876075,\n",
       " 0.700157430486259,\n",
       " 0.7635589999953194,\n",
       " 0.7303610505725089,\n",
       " 0.7364773105626437,\n",
       " 0.7498201001133077,\n",
       " 0.727272829417917,\n",
       " 0.761293080489125,\n",
       " 0.7585099266099836,\n",
       " 0.714033419182333,\n",
       " 0.7672055176349921,\n",
       " 0.7406614334227496,\n",
       " 0.7506019431444462,\n",
       " 0.7654220748123053,\n",
       " 0.7301811650378893,\n",
       " 0.7494953112275842,\n",
       " 0.729383210857979,\n",
       " 0.7585729167108336,\n",
       " 0.7420717604817794,\n",
       " 0.712838179871315,\n",
       " 0.7950484456422184,\n",
       " 0.7445705205660169,\n",
       " 0.7677847767942675,\n",
       " 0.7788087411083129,\n",
       " 0.7264235685467977,\n",
       " 0.7226577439701589,\n",
       " 0.7511429662950516,\n",
       " 0.7466121186578788,\n",
       " 0.7357854802078646,\n",
       " 0.7117291987232053,\n",
       " 0.7046819917647598,\n",
       " 0.7158261207344232,\n",
       " 0.7424896627715536,\n",
       " 0.7784614828144587,\n",
       " 0.7568773802364999,\n",
       " 0.7330681128679446,\n",
       " 0.7188963345719068,\n",
       " 0.7552955126564944,\n",
       " 0.7353744180207734,\n",
       " 0.7354856739748328,\n",
       " 0.7436377067445541,\n",
       " 0.7089229341727389,\n",
       " 0.7001521024144355,\n",
       " 0.7701395031967675,\n",
       " 0.7098732168171583,\n",
       " 0.7217299492439371,\n",
       " 0.7481571153407385,\n",
       " 0.7432276793361046,\n",
       " 0.7290797760436847,\n",
       " 0.7761248289557701,\n",
       " 0.7689925323696043,\n",
       " 0.7616201372862759,\n",
       " 0.6750109820971948,\n",
       " 0.7184402179479663,\n",
       " 0.7668691737834058,\n",
       " 0.7559582222585878,\n",
       " 0.7630441656309142,\n",
       " 0.7306027768902595,\n",
       " 0.7438393332144587,\n",
       " 0.7327193769100501,\n",
       " 0.7669195349723571,\n",
       " 0.7383833507209976,\n",
       " 0.7451254864863998,\n",
       " 0.7762929830382818,\n",
       " 0.7598957153766276,\n",
       " 0.741858499993747,\n",
       " 0.7692918085071208,\n",
       " 0.7764677302205164,\n",
       " 0.7696488784373021,\n",
       " 0.7170404410966738,\n",
       " 0.7214500518383875,\n",
       " 0.749800020927093,\n",
       " 0.7474984403104481,\n",
       " 0.726104103695632,\n",
       " 0.7543316635762041,\n",
       " 0.751386684800943,\n",
       " 0.7616325824863237,\n",
       " 0.8031741940950237,\n",
       " 0.7032446163295156,\n",
       " 0.743964649138849,\n",
       " 0.7534695375952067,\n",
       " 0.7221009731839592,\n",
       " 0.7323364803207061,\n",
       " 0.762031846319527,\n",
       " 0.7732760093948566,\n",
       " 0.7781191879982126,\n",
       " 0.7187920596636996,\n",
       " 0.7257149849932218,\n",
       " 0.7283694301465511,\n",
       " 0.757302998992964,\n",
       " 0.7427184637122018,\n",
       " 0.7685732497411865,\n",
       " 0.7204091488593112,\n",
       " 0.740872050736234,\n",
       " 0.7650445146930595,\n",
       " 0.7360844681410121,\n",
       " 0.7427587378862553,\n",
       " 0.7605925068752414,\n",
       " 0.7711073410574988,\n",
       " 0.7306302156351415,\n",
       " 0.7012130774758889,\n",
       " 0.7584365803511811,\n",
       " 0.71482810734439,\n",
       " 0.7013045384513796,\n",
       " 0.7297578757986969,\n",
       " 0.785011476336495,\n",
       " 0.7469859414046687,\n",
       " 0.7403351410743568,\n",
       " 0.7855914753091116,\n",
       " 0.7198593165249945,\n",
       " 0.7404494706962472,\n",
       " 0.7658579590409185,\n",
       " 0.7416231667800539,\n",
       " 0.729401774831641,\n",
       " 0.7245684785170651,\n",
       " 0.7461344883382386,\n",
       " 0.6965728963600353,\n",
       " 0.7246237607847359,\n",
       " 0.7752153711688838,\n",
       " 0.7150367819903312,\n",
       " 0.7782315017525904,\n",
       " 0.7625659052214684,\n",
       " 0.7540512977280083,\n",
       " 0.7444573715303822,\n",
       " 0.7168649013371677,\n",
       " 0.7545798863179773,\n",
       " 0.7325265627277309,\n",
       " 0.7611878818038513,\n",
       " 0.7294127937391874,\n",
       " 0.7921009863640249,\n",
       " 0.7606646878774215,\n",
       " 0.7157168924522962,\n",
       " 0.7816629560401539,\n",
       " 0.698116590328498,\n",
       " 0.7149465221106533,\n",
       " 0.7164545813487799,\n",
       " 0.708150086335031,\n",
       " 0.7065159084155009,\n",
       " 0.75193870826907,\n",
       " 0.7324936608042032,\n",
       " 0.7233548519377909,\n",
       " 0.777795991574056,\n",
       " 0.8025320235130458,\n",
       " 0.7481318972056539,\n",
       " 0.74755052636975,\n",
       " 0.7335679685725301,\n",
       " 0.7471751125753283,\n",
       " 0.7746890576315639,\n",
       " 0.7875660280308114,\n",
       " 0.7329547320383025,\n",
       " 0.7529525756476703,\n",
       " 0.7432879311947622,\n",
       " 0.7572781768100959,\n",
       " 0.7530548010935467,\n",
       " 0.7741190732110812,\n",
       " 0.754377285663239,\n",
       " 0.7607529516765101,\n",
       " 0.7596843521526387,\n",
       " 0.7733952513834534,\n",
       " 0.7265577956695787,\n",
       " 0.7667597530242998,\n",
       " 0.7479524078637005,\n",
       " 0.7117437179943056,\n",
       " 0.7213827865346593,\n",
       " 0.7560886053092741,\n",
       " 0.7384235913745614,\n",
       " 0.772872036957297,\n",
       " 0.726386438333336,\n",
       " 0.7434748788164105,\n",
       " 0.7832991172831305,\n",
       " 0.7454276591982136,\n",
       " 0.7334583203707792,\n",
       " 0.7512489101941735,\n",
       " 0.727584828973728,\n",
       " 0.7301658223219287,\n",
       " 0.7595448123522884,\n",
       " 0.7836694151523593,\n",
       " 0.7570555438623514,\n",
       " 0.7489815890366867,\n",
       " 0.7480970951896668,\n",
       " 0.7029361543248365,\n",
       " 0.7395856947205669,\n",
       " 0.7475947396970577,\n",
       " 0.7295501243997493,\n",
       " 0.7511121492345872,\n",
       " 0.7199571288967568,\n",
       " 0.6806614178759216,\n",
       " 0.7644266885787487,\n",
       " 0.7171111197429431,\n",
       " 0.7489768154333216,\n",
       " 0.7552985480582847,\n",
       " 0.7042980442126918,\n",
       " 0.6932999739863862,\n",
       " 0.7150466990803646,\n",
       " 0.7205822201958944,\n",
       " 0.7736764556345308,\n",
       " 0.7256053006053802,\n",
       " 0.7548624212813413,\n",
       " 0.7600017495616294,\n",
       " 0.7483485819900895,\n",
       " 0.7706495946564185,\n",
       " 0.7423707639157099,\n",
       " 0.7405642531590754,\n",
       " 0.7573367387266479,\n",
       " 0.7081678666833435,\n",
       " 0.7380815011976766,\n",
       " 0.7213929602795853,\n",
       " 0.7891412013240547,\n",
       " 0.7308267321225714,\n",
       " 0.7276504713828634,\n",
       " 0.7118061774825064,\n",
       " 0.748082765327497,\n",
       " 0.7612167365692599,\n",
       " 0.7476082239634172,\n",
       " 0.7726567927180664,\n",
       " 0.7505155570735148,\n",
       " 0.7607702315369084,\n",
       " 0.7694557260789693,\n",
       " 0.7160282478042199,\n",
       " 0.7372403988557243,\n",
       " 0.7242288961954606,\n",
       " 0.7593408632896028,\n",
       " 0.7663484776856829,\n",
       " 0.7089142144009223,\n",
       " 0.7265474142363482,\n",
       " 0.7352057512496424,\n",
       " 0.7289677478714909,\n",
       " 0.7423169029706904,\n",
       " 0.7530995481210188,\n",
       " 0.7806803903733677,\n",
       " 0.7743540446032378,\n",
       " 0.7558243703470874,\n",
       " 0.736239130925529,\n",
       " 0.753092584304278,\n",
       " 0.7887300316208239,\n",
       " 0.7517997381778174,\n",
       " 0.7515403825446006,\n",
       " 0.7475531374647444,\n",
       " 0.7337460706156111,\n",
       " 0.7493695423370623,\n",
       " 0.7303202506309159,\n",
       " 0.7358212204022574,\n",
       " 0.759445717329915,\n",
       " 0.7694549642051237,\n",
       " 0.7765038765874311,\n",
       " 0.7156515848935002,\n",
       " 0.7240242200055181,\n",
       " 0.7600047382402167,\n",
       " 0.7316281138793171,\n",
       " 0.7384206770101251,\n",
       " 0.7853011168029203,\n",
       " 0.7420682036714238,\n",
       " 0.7127545686646266,\n",
       " 0.7472474808112339,\n",
       " 0.7317152300421941,\n",
       " 0.7363624073156585,\n",
       " 0.7763700031004575,\n",
       " 0.7400409737155533,\n",
       " 0.8079644093352455,\n",
       " 0.7554170138601088,\n",
       " 0.7192542900588001,\n",
       " 0.7782660875029874,\n",
       " 0.7549579144925613,\n",
       " 0.7137577591024828,\n",
       " 0.765517180166772,\n",
       " 0.7292378926251515,\n",
       " 0.7505734508628976,\n",
       " 0.7321097447996783,\n",
       " 0.7805831644126344,\n",
       " 0.7672358779240338,\n",
       " 0.7585154661359497,\n",
       " 0.7784883501252022,\n",
       " 0.745485583544942,\n",
       " 0.7408934457819456,\n",
       " 0.7641193140109216,\n",
       " 0.7087675545890286,\n",
       " 0.7436914642376478,\n",
       " 0.7608369057509408,\n",
       " 0.7210174602712436,\n",
       " 0.7441892868585067,\n",
       " 0.7511712603755131,\n",
       " 0.726673729265435,\n",
       " 0.7927858851485028,\n",
       " 0.7060960482279405,\n",
       " 0.766926542192798,\n",
       " 0.7293000871380433,\n",
       " 0.7585291373232241,\n",
       " 0.713886054105491,\n",
       " 0.7266669460344541,\n",
       " 0.759716866147213,\n",
       " 0.7125678491803293,\n",
       " 0.7639171627405547,\n",
       " 0.7329032898667664,\n",
       " 0.7486800045804995,\n",
       " 0.7390169255917131,\n",
       " 0.7477381125257228,\n",
       " 0.7594942365418768,\n",
       " 0.7097318086395827,\n",
       " 0.7881145604488635,\n",
       " 0.7402005119458626,\n",
       " 0.7439611227490621,\n",
       " 0.7279845209314846,\n",
       " 0.7903737592856711,\n",
       " 0.7865377022387167,\n",
       " 0.7506712665088758,\n",
       " 0.724893936156112,\n",
       " 0.7725847206210021,\n",
       " 0.7553643003997024,\n",
       " 0.7591965022600307,\n",
       " 0.7634498750815062,\n",
       " 0.7416668118968706,\n",
       " 0.7454358898704367,\n",
       " 0.7546920438451306,\n",
       " 0.7564253344831124,\n",
       " 0.7372456050994418,\n",
       " 0.7521245109690846,\n",
       " 0.7284727495741266,\n",
       " 0.7576731607131817,\n",
       " 0.7436291626822047,\n",
       " 0.7670654070844299,\n",
       " 0.7084492763612329,\n",
       " 0.7433125612860969,\n",
       " 0.712613957800925,\n",
       " 0.7293970106348384,\n",
       " 0.7375717235661833,\n",
       " 0.7385756199906965,\n",
       " 0.7429733848962368,\n",
       " 0.7185458332122137,\n",
       " 0.7580818555335759,\n",
       " 0.7585833430431408,\n",
       " 0.7562260388093116,\n",
       " 0.7601257829166239,\n",
       " 0.7761341908998922,\n",
       " 0.750478579908929,\n",
       " 0.7687932183877081,\n",
       " 0.7760634115701057,\n",
       " 0.7569939989029483,\n",
       " 0.6582718602207869,\n",
       " 0.7489573567687704,\n",
       " 0.7199103548712003,\n",
       " 0.7251580250618377,\n",
       " 0.7506691486624258,\n",
       " 0.774284739454997,\n",
       " 0.7917114644927821,\n",
       " 0.7156547981878172,\n",
       " 0.7475579019073562,\n",
       " 0.793508617075058,\n",
       " 0.7785533048597023,\n",
       " 0.7428534060910601,\n",
       " 0.7368552215861727,\n",
       " 0.7745067107663474,\n",
       " 0.7374998438763185,\n",
       " 0.7470169607691486,\n",
       " 0.7619742281444108,\n",
       " 0.7254629354443489,\n",
       " 0.7318194936938468,\n",
       " 0.7524623271473885,\n",
       " 0.7561968627622593,\n",
       " 0.7130367342578527,\n",
       " 0.7854337585845094,\n",
       " 0.7286204217009784,\n",
       " 0.7177504680847298,\n",
       " 0.7662890382570776,\n",
       " 0.7847683010964096,\n",
       " 0.7520356531547481,\n",
       " 0.745468333846072,\n",
       " 0.7141971809838736,\n",
       " 0.7493988495355963,\n",
       " 0.7026991792694371,\n",
       " 0.7722344559655908,\n",
       " 0.6558279875799495,\n",
       " 0.744913661696976,\n",
       " 0.7493903987284127,\n",
       " 0.7198361375297203,\n",
       " 0.7376026784121549,\n",
       " 0.7096876176211998,\n",
       " 0.7365645591160561,\n",
       " 0.7431515976445305,\n",
       " 0.7771435077327757,\n",
       " 0.7533744839386176,\n",
       " 0.721787496696482,\n",
       " 0.7190773092360783,\n",
       " 0.7336301910368972,\n",
       " 0.7223610187336684,\n",
       " 0.7122458553620765,\n",
       " 0.7508114809587885,\n",
       " 0.7685453689289605,\n",
       " 0.7672442324932978,\n",
       " 0.7604597762234533,\n",
       " 0.7487982866332157,\n",
       " 0.7440983490482882,\n",
       " 0.7349676479854241,\n",
       " 0.7422034857957016,\n",
       " 0.716735725611074,\n",
       " 0.7397397556990306,\n",
       " 0.7542200390238446,\n",
       " 0.7410384190007586,\n",
       " 0.7002330033046076,\n",
       " 0.6947096913280697,\n",
       " 0.6800590897671719,\n",
       " 0.75071606423415,\n",
       " 0.7367952062031004,\n",
       " 0.7569559823174378,\n",
       " 0.7069170576465413,\n",
       " 0.7395931022486084,\n",
       " 0.7247981193292936,\n",
       " 0.751297255070464,\n",
       " 0.781054689883842,\n",
       " 0.7784701370576663,\n",
       " 0.771682058048675,\n",
       " 0.772331205643425,\n",
       " 0.7287368817294027,\n",
       " 0.7804357856746592,\n",
       " 0.7372798990351612,\n",
       " 0.7554041355515055,\n",
       " 0.7140948752033713,\n",
       " 0.757335876001471,\n",
       " 0.7547386578589285,\n",
       " 0.7411998637905862,\n",
       " 0.7270852446550484,\n",
       " 0.7749396466402267,\n",
       " 0.7496659120330569,\n",
       " 0.730347253892555,\n",
       " 0.7694813326828909,\n",
       " 0.7718694860522548,\n",
       " 0.7319528801076307,\n",
       " 0.7305125104506878,\n",
       " 0.7456621831522933,\n",
       " 0.8030262669182373,\n",
       " 0.7482428982209457,\n",
       " 0.6926166935692194,\n",
       " 0.690641425612972,\n",
       " 0.7127848083603561,\n",
       " 0.7636116138206284,\n",
       " 0.7115520203956063,\n",
       " 0.7715172289458068,\n",
       " 0.7731995358907597,\n",
       " 0.7324105840496486,\n",
       " 0.741973275266407,\n",
       " 0.7647766269179079,\n",
       " 0.7683292800311494,\n",
       " 0.731957966360762,\n",
       " 0.7813760108805669,\n",
       " 0.7135908830941446,\n",
       " 0.7641190418981578,\n",
       " 0.7327964055349956,\n",
       " 0.7716123468830833,\n",
       " 0.7676177884154163,\n",
       " 0.6778353638522631,\n",
       " 0.7493268986867969,\n",
       " 0.7413481280120171,\n",
       " 0.793325721470054,\n",
       " 0.7308318681740107,\n",
       " 0.7093419177643661,\n",
       " 0.7486944886455932,\n",
       " 0.7523079989603039,\n",
       " 0.7189856360279657,\n",
       " 0.756752006746986,\n",
       " 0.7523038230779941,\n",
       " 0.7236245878738898,\n",
       " 0.7473081980607575,\n",
       " 0.7819517652437942,\n",
       " 0.7530891091898276,\n",
       " 0.7823472492828969,\n",
       " 0.7101524438594848,\n",
       " 0.7276651237141724,\n",
       " 0.7163381274406528,\n",
       " 0.7832510413720222,\n",
       " 0.7413215364921879,\n",
       " 0.7919537458723553,\n",
       " 0.6884442531791088,\n",
       " 0.7319994615031937,\n",
       " 0.79081433861538,\n",
       " 0.7615515304044883,\n",
       " 0.7201869583998479,\n",
       " 0.7191405794264285,\n",
       " 0.7386626606931065,\n",
       " 0.7509000733420232,\n",
       " 0.7715451309540825,\n",
       " 0.7304549197538868,\n",
       " 0.7559890076869755,\n",
       " 0.7267203916784912,\n",
       " 0.7625394759844022,\n",
       " 0.7189214018300094,\n",
       " 0.7324670443588382,\n",
       " 0.7659822453874005,\n",
       " 0.7325829148718079,\n",
       " 0.7434831564915347,\n",
       " 0.7554382685071358,\n",
       " 0.745504087516542,\n",
       " 0.7827866735883773,\n",
       " 0.7227307152240137,\n",
       " 0.7334615878834334,\n",
       " 0.7757457293252923,\n",
       " 0.7316906431951349,\n",
       " 0.7653738103765928,\n",
       " 0.7410580648030964,\n",
       " 0.7432753074812044,\n",
       " 0.7887635583976614,\n",
       " 0.747298702234718,\n",
       " 0.7431427006299225,\n",
       " 0.7020119056094858,\n",
       " 0.7505820996069502,\n",
       " 0.7253999656730152,\n",
       " 0.7551649630769097,\n",
       " 0.7380595297004682,\n",
       " 0.7934122489536726,\n",
       " 0.7414770591701307,\n",
       " 0.7720353762179882,\n",
       " 0.7405085192038898,\n",
       " 0.7580296582471625,\n",
       " 0.7235784013719821,\n",
       " 0.7541313467738303,\n",
       " 0.7376469632542576,\n",
       " 0.7315522611461522,\n",
       " 0.7199144066700591,\n",
       " 0.7754386062047508,\n",
       " 0.7782363383194064,\n",
       " 0.7165077000558251,\n",
       " 0.7215775092540397,\n",
       " 0.7440289931505378,\n",
       " 0.7564859317542052,\n",
       " 0.7415476338374367,\n",
       " 0.7781690368963459,\n",
       " 0.7796678050297832,\n",
       " 0.7749828389029432,\n",
       " 0.6814382512052511,\n",
       " 0.7616252966610583,\n",
       " 0.7179213030694058,\n",
       " 0.7528103809964813,\n",
       " 0.7325654436636309,\n",
       " 0.7716752128885838,\n",
       " 0.7222470500019978,\n",
       " 0.7315952671635744,\n",
       " 0.7269328286263983,\n",
       " 0.7166090973742639,\n",
       " 0.7425491844636203,\n",
       " 0.7263915413818798,\n",
       " 0.7528388912028954,\n",
       " 0.7731161353686178,\n",
       " 0.7501145712730306,\n",
       " 0.696901088214888,\n",
       " 0.7381015435241945,\n",
       " 0.7325461908362527,\n",
       " 0.7138224203572463,\n",
       " 0.7300855783910316,\n",
       " 0.7493837823665288,\n",
       " 0.7310962466283337,\n",
       " 0.6904199337964284,\n",
       " 0.7403574627719012,\n",
       " 0.7125624921552629,\n",
       " 0.7336563891061236,\n",
       " 0.7322205171514611,\n",
       " 0.7337616200118576,\n",
       " 0.7245914844611772,\n",
       " 0.764257362789157,\n",
       " 0.7437839612583119,\n",
       " 0.7049692176503375,\n",
       " 0.7372168954005125,\n",
       " 0.7087401769516871,\n",
       " 0.7408231310765485,\n",
       " 0.7770723932876308,\n",
       " 0.7517790705511603,\n",
       " 0.7909539259497635,\n",
       " 0.737196297565774,\n",
       " 0.7409871705528706,\n",
       " 0.7413913799585876,\n",
       " 0.7834192376185886,\n",
       " 0.7311799603950588,\n",
       " 0.7299250301347322,\n",
       " 0.6900343992098706,\n",
       " 0.7447444964414189,\n",
       " 0.7194662265462894,\n",
       " 0.7595025403681065,\n",
       " 0.7558585639372207,\n",
       " 0.7373944918301099,\n",
       " 0.7338802385838187,\n",
       " 0.7317599699738568,\n",
       " 0.768486220862753,\n",
       " 0.7552958126628481,\n",
       " 0.7386554646032885,\n",
       " 0.7454873917089944,\n",
       " 0.7381861317104503,\n",
       " 0.723793726479194,\n",
       " 0.7025725370472959,\n",
       " 0.7443467811152278,\n",
       " 0.7201661012119103,\n",
       " 0.7716681052515296,\n",
       " 0.7215638294558828,\n",
       " 0.7149043906986681,\n",
       " 0.759931441566645,\n",
       " 0.7348946807269813,\n",
       " 0.7458925996941121,\n",
       " 0.73017511076588,\n",
       " 0.7540603846644595,\n",
       " 0.746677537280074,\n",
       " 0.7367884113069493,\n",
       " 0.7470571086712046,\n",
       " 0.7294676946989747,\n",
       " 0.7289579962957544,\n",
       " 0.7190273741112043,\n",
       " 0.7330755451248221,\n",
       " 0.7764312334456474,\n",
       " 0.769903801381898,\n",
       " 0.7121272042044955,\n",
       " 0.7428064148933873,\n",
       " 0.7922292096209682,\n",
       " 0.7463453965951827,\n",
       " 0.6947381652318925,\n",
       " 0.7055726559148869,\n",
       " 0.7112638129284088,\n",
       " 0.7433500484231633,\n",
       " 0.7319268624122015,\n",
       " 0.7648601425193626,\n",
       " 0.7485856869999709,\n",
       " 0.7369187472909404,\n",
       " 0.7283489208603696,\n",
       " 0.7427119210932164,\n",
       " 0.6909803387944464,\n",
       " 0.7147131396812298,\n",
       " 0.7463989191656031,\n",
       " 0.7599719766236496,\n",
       " 0.7357937354375168,\n",
       " 0.7707545861918498,\n",
       " 0.7409467983560538,\n",
       " 0.715723764361057,\n",
       " 0.7760778403141213,\n",
       " 0.7656419301227728,\n",
       " 0.7344708289113959,\n",
       " 0.792839321009364,\n",
       " 0.7617954508172627,\n",
       " 0.7906226878692676,\n",
       " 0.7263827758458491,\n",
       " 0.745755324524976,\n",
       " 0.7270580482976188,\n",
       " 0.7513729764976702,\n",
       " 0.7561717323625046,\n",
       " 0.7478349252300305,\n",
       " 0.7789773921134423,\n",
       " 0.7291876116540398,\n",
       " 0.7291579688974936,\n",
       " 0.7574988409185828,\n",
       " 0.7160733734217077,\n",
       " 0.7433554812048386,\n",
       " 0.7670482557963375,\n",
       " 0.7866024198470047,\n",
       " 0.734706541458504,\n",
       " 0.7379991292303859,\n",
       " 0.7225074035736281,\n",
       " 0.7318340043991145,\n",
       " 0.7299769119571334,\n",
       " 0.7172393131017055,\n",
       " 0.7694705679769225,\n",
       " 0.7392517789059025,\n",
       " 0.731201632674694,\n",
       " 0.7514282956616477,\n",
       " 0.7801661891798892,\n",
       " 0.7468889276845293,\n",
       " 0.7440066024187862,\n",
       " 0.7488079706529739,\n",
       " 0.7719481354670452,\n",
       " 0.7441611851565784,\n",
       " 0.7138091763202997,\n",
       " 0.7404009462423037,\n",
       " 0.7561412968286986,\n",
       " 0.7320385246196668,\n",
       " 0.7318312219289496,\n",
       " 0.7778966828980508,\n",
       " 0.7364484878483564,\n",
       " 0.7513363559710138,\n",
       " 0.7258845962674947,\n",
       " 0.7363939938220629,\n",
       " 0.7524504683379495,\n",
       " 0.7305597877894091,\n",
       " 0.7610559650930968,\n",
       " 0.7659940476360484,\n",
       " 0.7456716528557896,\n",
       " 0.7015209517388972,\n",
       " 0.6997745271813918,\n",
       " 0.7248782046226785,\n",
       " 0.7876178643733003,\n",
       " 0.7955425255313375,\n",
       " 0.7409578998299639,\n",
       " 0.7338707313349494,\n",
       " 0.7782871340106684,\n",
       " 0.7125854257187234,\n",
       " 0.7120024885743022,\n",
       " 0.779996458436441,\n",
       " 0.774239843613001,\n",
       " 0.7445369173787647,\n",
       " 0.7203551460458284,\n",
       " 0.7175140005222131,\n",
       " 0.7782934683116554,\n",
       " 0.767844441593672,\n",
       " 0.7561659182354408,\n",
       " 0.7221895414076109,\n",
       " 0.7424767072014687,\n",
       " 0.7605653388551681,\n",
       " 0.7803461554900316,\n",
       " 0.7405572309170774,\n",
       " 0.7271584849871381,\n",
       " 0.7246008073037129,\n",
       " 0.7654370820448722,\n",
       " 0.7832218781695256,\n",
       " 0.7304641766459099,\n",
       " 0.7309833418991816,\n",
       " 0.756501202424573,\n",
       " 0.7451234028272158,\n",
       " 0.7703271951434898,\n",
       " 0.7314176914874267,\n",
       " 0.7074777327766902,\n",
       " 0.7988080497662997,\n",
       " 0.7227489560276268,\n",
       " 0.7379487493210902,\n",
       " 0.7311835199773737,\n",
       " 0.757586062923638,\n",
       " 0.7205957775097063,\n",
       " 0.7729943598556428,\n",
       " 0.7507550710997961,\n",
       " 0.7154335968940175,\n",
       " 0.7423445972856586,\n",
       " 0.7369200184954918,\n",
       " 0.7710150159667365,\n",
       " 0.6711264885851007,\n",
       " 0.7393954262565494,\n",
       " 0.7609707188722893,\n",
       " 0.7032897688035347,\n",
       " 0.740573396815204,\n",
       " 0.8016305767266108,\n",
       " 0.6797735904213311,\n",
       " 0.7519048682914772,\n",
       " 0.7320211296480423,\n",
       " 0.752695270625474,\n",
       " 0.681030916789048,\n",
       " 0.7747225274223326,\n",
       " 0.7829082627321393,\n",
       " 0.7776541077227256,\n",
       " 0.7742507503305649,\n",
       " 0.7221311811699569,\n",
       " 0.7301862458971479,\n",
       " 0.7667512100948498,\n",
       " 0.7264141592325857,\n",
       " 0.7517561224969396,\n",
       " 0.7506331976331939,\n",
       " 0.7034391117207366,\n",
       " 0.7401663953414939,\n",
       " 0.7356055847770431,\n",
       " 0.7358972534898496,\n",
       " 0.780592668475212,\n",
       " 0.6888682223823506,\n",
       " 0.7922216163217346,\n",
       " 0.7490957088511547,\n",
       " 0.773727730929341,\n",
       " 0.7050878544437005,\n",
       " 0.7877767469282901,\n",
       " 0.7532114567088128,\n",
       " 0.7563297633597537,\n",
       " 0.7272085158129586,\n",
       " 0.7620168028948457,\n",
       " 0.7441830720023537,\n",
       " 0.7215550390805133,\n",
       " 0.7745267533411166,\n",
       " 0.6881833139222433,\n",
       " 0.7939998718840753,\n",
       " 0.6987528421855027,\n",
       " 0.7649848042691916,\n",
       " 0.7440480204974265,\n",
       " 0.6845731164406088,\n",
       " 0.7726480594209412,\n",
       " 0.7249187830385939,\n",
       " 0.7408081511522228,\n",
       " 0.7396226228401264,\n",
       " 0.7402866239641315,\n",
       " 0.6701953543057334,\n",
       " 0.7793645486782943,\n",
       " 0.7148523030843148,\n",
       " 0.7301193190147856,\n",
       " 0.7604888563245671,\n",
       " 0.7705144530831165,\n",
       " 0.7783406206002796,\n",
       " 0.7492661704330799,\n",
       " 0.7721132701329565,\n",
       " 0.7373604913067786,\n",
       " 0.7836797188033962,\n",
       " 0.7170592750253859,\n",
       " 0.7142923731995127,\n",
       " 0.7093702611140524,\n",
       " 0.7552809408748895,\n",
       " 0.66908720659529,\n",
       " 0.7289802253289628,\n",
       " 0.7143331386982639,\n",
       " 0.7691295959092685,\n",
       " 0.6858217477464261,\n",
       " 0.7559409995723754,\n",
       " 0.7847558304179344,\n",
       " 0.7623310761122615,\n",
       " 0.7427099532427104,\n",
       " 0.7759486677729711,\n",
       " 0.7721243610077041,\n",
       " 0.7470461309437187,\n",
       " 0.7960572506395065,\n",
       " 0.733626024424263,\n",
       " 0.7158054232476192,\n",
       " 0.7215263350516189,\n",
       " 0.725330390682057,\n",
       " 0.7555043825498515,\n",
       " 0.7621744461394336,\n",
       " 0.7392181602626825,\n",
       " 0.7145054002092748,\n",
       " 0.7372088614309474,\n",
       " 0.7522001794931183,\n",
       " 0.768889406867109,\n",
       " 0.7570570508372299,\n",
       " 0.7182053057218283,\n",
       " 0.7386422959994738,\n",
       " 0.715813827429273,\n",
       " 0.7352441670216341]"
      ]
     },
     "execution_count": 73,
     "metadata": {},
     "output_type": "execute_result"
    }
   ],
   "source": [
    "scores"
   ]
  },
  {
   "cell_type": "code",
   "execution_count": 74,
   "id": "971696f5",
   "metadata": {},
   "outputs": [
    {
     "data": {
      "text/plain": [
       "441"
      ]
     },
     "execution_count": 74,
     "metadata": {},
     "output_type": "execute_result"
    }
   ],
   "source": [
    "np.argmax(scores)"
   ]
  },
  {
   "cell_type": "code",
   "execution_count": 75,
   "id": "d69ca9dc",
   "metadata": {},
   "outputs": [
    {
     "data": {
      "text/plain": [
       "0.8079644093352455"
      ]
     },
     "execution_count": 75,
     "metadata": {},
     "output_type": "execute_result"
    }
   ],
   "source": [
    "scores[np.argmax(scores)]"
   ]
  },
  {
   "cell_type": "markdown",
   "id": "b014a302",
   "metadata": {},
   "source": [
    "# The best model is found at a certain random state"
   ]
  },
  {
   "cell_type": "code",
   "execution_count": 76,
   "id": "996b69ca",
   "metadata": {},
   "outputs": [
    {
     "name": "stdout",
     "output_type": "stream",
     "text": [
      "r2 score 0.8210114032550498\n",
      "MAE 0.06076408251267007\n"
     ]
    }
   ],
   "source": [
    "x_train,x_test,y_train,y_test=train_test_split(x,y,test_size=0.1,random_state=np.argmax(scores))\n",
    "lr=LinearRegression()\n",
    "s_model =lr.fit(x_train,y_train)\n",
    "y_predict=s_model.predict(x_test)\n",
    "print(\"r2 score\",r2_score(y_test,y_predict))\n",
    "print('MAE',mean_absolute_error(y_test,y_predict))"
   ]
  },
  {
   "cell_type": "code",
   "execution_count": 77,
   "id": "234cc450",
   "metadata": {},
   "outputs": [
    {
     "data": {
      "text/plain": [
       "74.06"
      ]
     },
     "execution_count": 77,
     "metadata": {},
     "output_type": "execute_result"
    }
   ],
   "source": [
    "s1_train = round(r2_score(y_train,s_model.predict(x_train))*100,2)\n",
    "s1_train"
   ]
  },
  {
   "cell_type": "code",
   "execution_count": 78,
   "id": "9f85681e",
   "metadata": {},
   "outputs": [
    {
     "data": {
      "text/plain": [
       "82.1"
      ]
     },
     "execution_count": 78,
     "metadata": {},
     "output_type": "execute_result"
    }
   ],
   "source": [
    "s1_test = round(r2_score(y_test,y_predict)*100,2)\n",
    "s1_test"
   ]
  },
  {
   "cell_type": "code",
   "execution_count": 79,
   "id": "b6895138",
   "metadata": {},
   "outputs": [
    {
     "name": "stdout",
     "output_type": "stream",
     "text": [
      "y-intercept :  -0.10207919603264434\n"
     ]
    }
   ],
   "source": [
    "print(\"y-intercept : \",s_model.intercept_)"
   ]
  },
  {
   "cell_type": "code",
   "execution_count": 80,
   "id": "f4e6a788",
   "metadata": {},
   "outputs": [
    {
     "name": "stdout",
     "output_type": "stream",
     "text": [
      "slope :  [ 0.25543979 -0.00139415  0.19922046 -0.03103428  0.03302427  0.37919943\n",
      " -0.01809086]\n"
     ]
    }
   ],
   "source": [
    "print(\"slope : \",s_model.coef_)"
   ]
  },
  {
   "cell_type": "code",
   "execution_count": 81,
   "id": "a159fb90",
   "metadata": {},
   "outputs": [
    {
     "data": {
      "text/plain": [
       "Index(['age', 'sex', 'bmi', 'classif', 'children', 'smoker', 'region',\n",
       "       'charges'],\n",
       "      dtype='object')"
      ]
     },
     "execution_count": 81,
     "metadata": {},
     "output_type": "execute_result"
    }
   ],
   "source": [
    "scaled_df.columns"
   ]
  },
  {
   "cell_type": "raw",
   "id": "3c2b6af6",
   "metadata": {},
   "source": [
    "charges = -0.10207919603264434+( -0.01809086*age)+(0.37919943*sex)+(0.03302427*bmi)+(-0.03103428*classif)\n",
    "                   +(0.19922046*children)+(-0.00139415*smoker)+(0.25543979*region)"
   ]
  },
  {
   "cell_type": "markdown",
   "id": "15792cc7",
   "metadata": {},
   "source": [
    "## KNN"
   ]
  },
  {
   "cell_type": "code",
   "execution_count": 82,
   "id": "3a1eb1ad",
   "metadata": {},
   "outputs": [],
   "source": [
    "# x_n = scaled_df.iloc[:,0:7].values\n",
    "# y_n = scaled_df.iloc[:,-1].values\n",
    "# print(x_n.shape)\n",
    "# print(y_n.shape)"
   ]
  },
  {
   "cell_type": "code",
   "execution_count": 83,
   "id": "abf19af7",
   "metadata": {},
   "outputs": [
    {
     "name": "stdout",
     "output_type": "stream",
     "text": [
      "(1196, 7) (133, 7)\n"
     ]
    }
   ],
   "source": [
    "# train_test split \n",
    "from sklearn.model_selection import train_test_split \n",
    "x_train1,x_test1,y_train1,y_test1 = train_test_split(x_n,y_n,test_size =.3 ,random_state = 441 )\n",
    "print(x_train.shape,x_test.shape)"
   ]
  },
  {
   "cell_type": "code",
   "execution_count": 84,
   "id": "305d4d14",
   "metadata": {
    "scrolled": true
   },
   "outputs": [
    {
     "data": {
      "text/plain": [
       "array([[0.953125  , 1.        , 0.47282755, ..., 0.        , 0.        ,\n",
       "        0.        ],\n",
       "       [0.78125   , 0.        , 0.38081786, ..., 0.2       , 0.        ,\n",
       "        0.33333333],\n",
       "       [0.65625   , 1.        , 0.5708905 , ..., 0.4       , 0.        ,\n",
       "        0.66666667],\n",
       "       ...,\n",
       "       [0.625     , 0.        , 0.68496099, ..., 0.2       , 0.        ,\n",
       "        0.33333333],\n",
       "       [0.296875  , 1.        , 0.30414313, ..., 0.4       , 0.        ,\n",
       "        0.33333333],\n",
       "       [0.46875   , 1.        , 0.3424805 , ..., 0.6       , 1.        ,\n",
       "        0.33333333]])"
      ]
     },
     "execution_count": 84,
     "metadata": {},
     "output_type": "execute_result"
    }
   ],
   "source": [
    "x_train1\n"
   ]
  },
  {
   "cell_type": "code",
   "execution_count": 85,
   "id": "fb8e5695",
   "metadata": {},
   "outputs": [
    {
     "data": {
      "text/plain": [
       "array([6.61778122e-02, 1.62248993e-01, 5.34664642e-01, 2.53629900e-02,\n",
       "       2.04566455e-01, 7.19555492e-01, 1.35316786e-02, 2.25467271e-02,\n",
       "       3.06844975e-02, 1.16854941e-01, 1.85305565e-01, 3.94200015e-02,\n",
       "       8.58497387e-02, 1.24013486e-01, 1.18885232e-01, 1.14317192e-01,\n",
       "       1.99294222e-01, 1.95833492e-01, 7.30737312e-02, 1.69452832e-01,\n",
       "       1.10214718e-01, 2.84656949e-01, 7.33195823e-01, 2.01536949e-01,\n",
       "       1.35742097e-01, 4.96907414e-02, 1.43083463e-01, 8.13980957e-03,\n",
       "       6.16193697e-01, 5.80421622e-01, 1.39579134e-01, 4.12217111e-02,\n",
       "       7.74560701e-02, 1.09573181e-01, 4.61969267e-01, 1.91051656e-03,\n",
       "       4.68779941e-02, 8.10006579e-02, 1.57917464e-01, 8.69796682e-02,\n",
       "       1.66500732e-01, 3.75034306e-02, 4.63906362e-01, 4.37254425e-02,\n",
       "       8.44760773e-02, 1.97115261e-01, 7.40234491e-01, 1.10061395e-01,\n",
       "       8.95029595e-03, 9.83204128e-02, 3.88954922e-02, 1.48998012e-02,\n",
       "       2.90964337e-01, 8.20226033e-03, 2.51832540e-02, 2.54139425e-01,\n",
       "       1.29733581e-01, 7.59054131e-01, 3.27245238e-02, 6.51207736e-01,\n",
       "       1.05644307e-01, 1.77942092e-01, 5.74293007e-02, 1.88226507e-01,\n",
       "       2.34623533e-01, 3.26517025e-02, 4.68684751e-02, 1.82537834e-01,\n",
       "       5.38192774e-01, 5.96817515e-01, 9.28838029e-02, 2.94866115e-01,\n",
       "       1.88802399e-01, 6.54290626e-01, 2.60933556e-01, 4.20755265e-02,\n",
       "       6.60764739e-02, 2.13193763e-02, 5.60228916e-01, 3.62575399e-02,\n",
       "       9.36146601e-02, 3.73486514e-01, 9.79248330e-02, 5.28585830e-02,\n",
       "       5.50111692e-01, 2.56313148e-01, 9.73371387e-03, 1.83691754e-01,\n",
       "       1.74879575e-02, 6.01470481e-02, 9.45532612e-02, 3.11090148e-02,\n",
       "       1.29977830e-01, 1.66269553e-01, 4.57786639e-02, 1.05785083e-01,\n",
       "       7.97403974e-02, 3.56208764e-02, 7.47122687e-01, 2.04770871e-02,\n",
       "       9.35956645e-02, 6.05470630e-02, 1.18531345e-01, 9.01588022e-02,\n",
       "       4.35093856e-02, 1.36985779e-02, 1.28058679e-01, 4.30647754e-01,\n",
       "       7.97251121e-03, 5.64963150e-02, 3.15360998e-01, 1.19451881e-01,\n",
       "       1.35610289e-01, 1.06663062e-01, 5.81091639e-02, 6.14148784e-01,\n",
       "       5.48612280e-01, 6.55869315e-01, 1.45325146e-01, 1.63368288e-01,\n",
       "       1.39494857e-01, 1.80516208e-01, 2.81634617e-01, 9.62639535e-02,\n",
       "       8.32017550e-02, 2.67885722e-01, 2.73344243e-01, 1.11796844e-01,\n",
       "       2.06721626e-02, 3.72787608e-01, 2.21838897e-01, 2.25199932e-01,\n",
       "       2.03773172e-01, 3.62417191e-02, 2.76712476e-02, 1.29346680e-01,\n",
       "       2.09625497e-01, 5.82386207e-01, 2.42845924e-02, 5.23612898e-02,\n",
       "       5.61639848e-01, 1.64246586e-01, 8.66940519e-03, 1.93252234e-01,\n",
       "       3.08047504e-01, 1.64942452e-01, 2.93703415e-01, 4.38155571e-02,\n",
       "       1.31518644e-01, 1.00507477e-01, 1.05473653e-01, 8.76035509e-02,\n",
       "       6.63842934e-04, 5.43923662e-02, 4.20560017e-02, 9.61809731e-02,\n",
       "       2.10089653e-02, 6.37083299e-01, 1.91664104e-02, 9.71709242e-02,\n",
       "       1.75533269e-02, 1.19427329e-01, 1.34903161e-02, 2.16941192e-02,\n",
       "       9.55297067e-03, 6.55420529e-02, 2.97333430e-01, 8.08067412e-02,\n",
       "       7.12296056e-02, 1.22536253e-01, 2.03760969e-01, 3.04004815e-01,\n",
       "       8.21550572e-01, 1.57031889e-01, 8.18624017e-02, 3.03268811e-02,\n",
       "       1.46904142e-01, 7.37182713e-01, 4.16729681e-02, 3.49236903e-02,\n",
       "       2.35584862e-02, 2.22779443e-03, 3.94629531e-02, 1.65854284e-01,\n",
       "       1.03797385e-01, 1.36034721e-01, 9.15680462e-02, 1.14083560e-01,\n",
       "       7.99208157e-02, 5.43557485e-02, 9.61751023e-02, 9.03369660e-02,\n",
       "       8.15167337e-03, 7.98605183e-03, 9.26727533e-03, 2.13138217e-01,\n",
       "       1.33800955e-01, 2.13147337e-02, 1.68180117e-01, 6.93768317e-01,\n",
       "       1.61700077e-02, 1.56785662e-02, 8.97844919e-02, 5.20816775e-01,\n",
       "       7.18759614e-01, 1.54424575e-01, 1.54602329e-01, 1.19805913e-01,\n",
       "       6.06724617e-02, 1.47389947e-01, 1.09063061e-01, 1.96909363e-01,\n",
       "       1.43387683e-02, 1.89326010e-01, 1.35879658e-01, 1.66714568e-01,\n",
       "       2.23445061e-03, 3.50264218e-01, 1.32661504e-01, 2.44197506e-01,\n",
       "       1.69421390e-01, 8.73385584e-02, 1.64184970e-02, 5.37675518e-01,\n",
       "       1.43548963e-01, 6.75546437e-02, 3.20421507e-01, 6.82496645e-02,\n",
       "       6.38087956e-01, 5.91558912e-02, 1.53475160e-01, 7.73363978e-02,\n",
       "       1.89905215e-01, 3.11394411e-01, 8.42863419e-02, 1.56490571e-02,\n",
       "       1.12527593e-02, 4.44424159e-02, 7.32226077e-02, 2.12742029e-01,\n",
       "       4.02757180e-02, 6.95333350e-02, 1.70933447e-01, 9.93783670e-03,\n",
       "       3.79695658e-02, 5.49464804e-02, 1.13629369e-01, 1.55251155e-01,\n",
       "       3.78089364e-02, 1.59041386e-01, 1.13365761e-02, 5.81681118e-02,\n",
       "       5.80116658e-01, 2.72891972e-01, 2.79118782e-01, 2.88563246e-01,\n",
       "       8.10374313e-02, 1.18121307e-01, 2.10571059e-01, 1.38534950e-01,\n",
       "       2.74369750e-01, 9.61393098e-02, 3.92340228e-02, 1.77875342e-01,\n",
       "       6.19473004e-02, 1.25177456e-01, 5.83848814e-02, 1.95219604e-01,\n",
       "       5.71894808e-01, 1.62022215e-01, 1.15330521e-01, 1.93048510e-03,\n",
       "       1.10790906e-01, 1.14618156e-01, 8.92010690e-02, 7.36616842e-01,\n",
       "       2.19724225e-02, 4.65882157e-02, 1.25219865e-02, 1.19387518e-01,\n",
       "       5.31823639e-01, 1.51198251e-01, 3.44460408e-02, 3.79066416e-01,\n",
       "       9.59643632e-02, 7.24733582e-02, 1.56751553e-01, 6.78625454e-02,\n",
       "       2.21338837e-01, 1.51299173e-01, 1.14218903e-01, 6.59496481e-02,\n",
       "       4.75993713e-01, 1.77925229e-01, 5.83892213e-01, 4.00882453e-01,\n",
       "       7.96723439e-02, 6.61546265e-02, 7.75175432e-03, 5.59112817e-01,\n",
       "       5.41872053e-01, 1.03835103e-01, 6.87462602e-02, 2.69951865e-01,\n",
       "       3.88249838e-02, 1.45934225e-01, 1.74153295e-01, 5.99970784e-01,\n",
       "       3.76703682e-02, 1.61897864e-01, 3.79123051e-01, 2.14570156e-03,\n",
       "       4.71292569e-02, 1.28658933e-01, 1.12386350e-01, 5.23326908e-01,\n",
       "       1.37227110e-02, 2.41619303e-04, 1.43447588e-02, 3.28106687e-01,\n",
       "       1.62453376e-01, 1.56539528e-01, 1.16334256e-01, 1.36999078e-01,\n",
       "       1.54885934e-01, 2.63903656e-02, 2.02865676e-01, 4.03367432e-01,\n",
       "       3.12396675e-04, 5.78653259e-02, 3.21001955e-01, 1.66212914e-01,\n",
       "       9.18793144e-02, 7.39927619e-02, 8.69879629e-02, 1.88416353e-01,\n",
       "       9.12310728e-02, 1.63465562e-01, 1.62139368e-02, 5.48985471e-02,\n",
       "       7.11721676e-01, 5.28857847e-01, 1.83906940e-01, 4.81359681e-02,\n",
       "       9.67158953e-03, 7.55648501e-02, 6.23484016e-01, 6.08466846e-01,\n",
       "       1.91621398e-01, 1.31997813e-01, 2.33680852e-02, 5.16435594e-01,\n",
       "       1.00867118e-01, 6.66176015e-01, 3.09765226e-02, 1.71786481e-01,\n",
       "       9.46353541e-02, 2.34753188e-01, 7.17254399e-02, 2.24535110e-04,\n",
       "       5.77251040e-02, 2.83831251e-01, 9.30310776e-03, 3.31910493e-02,\n",
       "       2.54978885e-02, 6.38851903e-02, 1.59169659e-01, 5.38029657e-01,\n",
       "       5.74259087e-02, 1.50659787e-01, 5.78540104e-02, 3.27180895e-02,\n",
       "       6.24942940e-01, 1.62290024e-01, 3.92048170e-02, 1.35813559e-01,\n",
       "       2.50197922e-01, 2.03244539e-02, 1.05502087e-01, 9.66767883e-03,\n",
       "       1.22993038e-01, 3.75903160e-01, 5.46279311e-02, 5.20535761e-01,\n",
       "       3.53127325e-01, 1.48674175e-01, 1.22930293e-01, 5.84541851e-01,\n",
       "       1.39681230e-01, 6.71288653e-02, 1.87844459e-01, 1.97114374e-01,\n",
       "       1.19437868e-01, 1.63473993e-01, 1.38343049e-01, 9.62387430e-02,\n",
       "       1.00000000e+00, 5.35531486e-01, 7.32178606e-02])"
      ]
     },
     "execution_count": 85,
     "metadata": {},
     "output_type": "execute_result"
    }
   ],
   "source": [
    "y_test1"
   ]
  },
  {
   "cell_type": "code",
   "execution_count": null,
   "id": "69672570",
   "metadata": {},
   "outputs": [],
   "source": []
  },
  {
   "cell_type": "code",
   "execution_count": null,
   "id": "a42e218c",
   "metadata": {},
   "outputs": [],
   "source": []
  },
  {
   "cell_type": "code",
   "execution_count": 86,
   "id": "beb5e4de",
   "metadata": {},
   "outputs": [],
   "source": [
    "from sklearn.neighbors import KNeighborsRegressor"
   ]
  },
  {
   "cell_type": "code",
   "execution_count": 87,
   "id": "1d98359a",
   "metadata": {},
   "outputs": [],
   "source": [
    "# finding the value of k "
   ]
  },
  {
   "cell_type": "code",
   "execution_count": 88,
   "id": "326dee56",
   "metadata": {},
   "outputs": [],
   "source": [
    "# 2nd method for finding the value of k \n",
    "accuracy = []\n",
    "for i in range(1,21):\n",
    "    knn = KNeighborsRegressor(n_neighbors=i)\n",
    "    knn.fit(x_train1, y_train1)\n",
    "    accuracy.append(r2_score(y_test1,knn.predict(x_test1)))\n"
   ]
  },
  {
   "cell_type": "code",
   "execution_count": 89,
   "id": "bcbd4495",
   "metadata": {},
   "outputs": [
    {
     "data": {
      "image/png": "[encoded data removed]",
      "text/plain": [
       "<Figure size 864x432 with 1 Axes>"
      ]
     },
     "metadata": {
      "needs_background": "light"
     },
     "output_type": "display_data"
    }
   ],
   "source": [
    "plt.figure(figsize=(12,6))\n",
    "plt.ylabel(\"Accuracy\")\n",
    "plt.xlabel(\"values of k \")\n",
    "plt.plot(range(1,21),accuracy,color='red', linestyle='dashed', marker='o',markerfacecolor='blue', markersize=10);"
   ]
  },
  {
   "cell_type": "code",
   "execution_count": 90,
   "id": "e7db089a",
   "metadata": {},
   "outputs": [],
   "source": [
    "k2 = 6\n",
    "knn = KNeighborsRegressor(n_neighbors=k2)\n",
    "knn.fit(x_train1, y_train1)\n",
    "y_pred1 = knn.predict(x_test1)"
   ]
  },
  {
   "cell_type": "code",
   "execution_count": 91,
   "id": "29eb547c",
   "metadata": {},
   "outputs": [
    {
     "data": {
      "text/plain": [
       "0.8545936020071325"
      ]
     },
     "execution_count": 91,
     "metadata": {},
     "output_type": "execute_result"
    }
   ],
   "source": [
    "r2_score(y_train1,knn.predict(x_train1))"
   ]
  },
  {
   "cell_type": "code",
   "execution_count": 92,
   "id": "34a1950a",
   "metadata": {},
   "outputs": [
    {
     "data": {
      "text/plain": [
       "0.864129055531385"
      ]
     },
     "execution_count": 92,
     "metadata": {},
     "output_type": "execute_result"
    }
   ],
   "source": [
    "r2_score(y_test1,y_pred1)"
   ]
  },
  {
   "cell_type": "code",
   "execution_count": 93,
   "id": "befac0a5",
   "metadata": {},
   "outputs": [
    {
     "data": {
      "text/plain": [
       "85.46"
      ]
     },
     "execution_count": 93,
     "metadata": {},
     "output_type": "execute_result"
    }
   ],
   "source": [
    "s2_train = round(r2_score(y_train1,knn.predict(x_train1))*100,2)\n",
    "s2_train"
   ]
  },
  {
   "cell_type": "code",
   "execution_count": 94,
   "id": "5da0312f",
   "metadata": {},
   "outputs": [
    {
     "data": {
      "text/plain": [
       "86.41"
      ]
     },
     "execution_count": 94,
     "metadata": {},
     "output_type": "execute_result"
    }
   ],
   "source": [
    "s2_test = round(r2_score(y_test1,knn.predict(x_test1))*100,2)\n",
    "s2_test"
   ]
  },
  {
   "cell_type": "markdown",
   "id": "934fbe3e",
   "metadata": {},
   "source": [
    "# descision tree regressor "
   ]
  },
  {
   "cell_type": "code",
   "execution_count": 95,
   "id": "da7d2226",
   "metadata": {},
   "outputs": [],
   "source": [
    "from sklearn.tree import DecisionTreeRegressor\n",
    "from sklearn.model_selection import cross_val_score, cross_val_predict, train_test_split\n",
    "from sklearn import tree"
   ]
  },
  {
   "cell_type": "code",
   "execution_count": 96,
   "id": "e9850bc6",
   "metadata": {},
   "outputs": [
    {
     "name": "stdout",
     "output_type": "stream",
     "text": [
      "R-Squared on train dataset : 0.853\n",
      "R-Squared on test dataset:  0.927\n"
     ]
    }
   ],
   "source": [
    "dtr_model=DecisionTreeRegressor(max_depth=4,min_samples_split=5,max_leaf_nodes=10)\n",
    "dtr_model.fit(x_train,y_train)\n",
    "y_pred=dtr_model.predict(x_test)\n",
    "print(\"R-Squared on train dataset :\",round(dtr_model.score(x_train,y_train),3))\n",
    "print(\"R-Squared on test dataset: \",round(dtr_model.score(x_test,y_test),3))"
   ]
  },
  {
   "cell_type": "code",
   "execution_count": 97,
   "id": "c93bba23",
   "metadata": {},
   "outputs": [
    {
     "data": {
      "text/plain": [
       "85.33"
      ]
     },
     "execution_count": 97,
     "metadata": {},
     "output_type": "execute_result"
    }
   ],
   "source": [
    "s3_train = round(r2_score(y_train,dtr_model.predict(x_train))*100,2)\n",
    "s3_train"
   ]
  },
  {
   "cell_type": "code",
   "execution_count": 98,
   "id": "eb074dba",
   "metadata": {},
   "outputs": [
    {
     "data": {
      "text/plain": [
       "92.7"
      ]
     },
     "execution_count": 98,
     "metadata": {},
     "output_type": "execute_result"
    }
   ],
   "source": [
    "s3_test = round(r2_score(y_test,dtr_model.predict(x_test))*100,2)\n",
    "s3_test"
   ]
  },
  {
   "cell_type": "markdown",
   "id": "7cf1a912",
   "metadata": {},
   "source": [
    "\n",
    "# random forest regressor "
   ]
  },
  {
   "cell_type": "code",
   "execution_count": 99,
   "id": "4ceba3f9",
   "metadata": {},
   "outputs": [],
   "source": [
    "from sklearn.model_selection import cross_val_score\n",
    "from sklearn.model_selection import RepeatedStratifiedKFold\n",
    "from sklearn.model_selection import KFold\n",
    "from sklearn.model_selection import cross_val_score"
   ]
  },
  {
   "cell_type": "code",
   "execution_count": 100,
   "id": "c30bbce2",
   "metadata": {},
   "outputs": [],
   "source": [
    "from sklearn.ensemble import RandomForestRegressor"
   ]
  },
  {
   "cell_type": "code",
   "execution_count": 101,
   "id": "c7d123ba",
   "metadata": {
    "scrolled": true
   },
   "outputs": [
    {
     "name": "stdout",
     "output_type": "stream",
     "text": [
      "[0.88120356 0.83103567 0.81501249 0.72205305 0.85411721 0.88585899\n",
      " 0.84906924 0.79977702 0.83754916 0.85881827]\n",
      "r2 value : 0.8334494661397193\n"
     ]
    }
   ],
   "source": [
    "# Defining model\n",
    "model2 = RandomForestRegressor()\n",
    "\n",
    "#Evaluate the model\n",
    "cv1 = KFold(n_splits=10,random_state=None,shuffle=False)\n",
    "RF_score1 = cross_val_score(model2,x,y,scoring='r2',cv=cv1,n_jobs=-1,error_score='raise')\n",
    "# results.append(RF_score1)\n",
    "# names.append('Random forest')\n",
    "print(RF_score1)\n",
    "print(\"r2 value :\",RF_score1.mean())"
   ]
  },
  {
   "cell_type": "code",
   "execution_count": 102,
   "id": "612b1f9f",
   "metadata": {},
   "outputs": [],
   "source": [
    "# s4_train = r2_score(y_train,model2.predict(x_train))\n",
    "# s4_train"
   ]
  },
  {
   "cell_type": "code",
   "execution_count": 103,
   "id": "6c68ff85",
   "metadata": {},
   "outputs": [],
   "source": [
    "s4_train = '--'"
   ]
  },
  {
   "cell_type": "code",
   "execution_count": 104,
   "id": "572463c9",
   "metadata": {},
   "outputs": [
    {
     "data": {
      "text/plain": [
       "83.34"
      ]
     },
     "execution_count": 104,
     "metadata": {},
     "output_type": "execute_result"
    }
   ],
   "source": [
    "s4_test = round(RF_score1.mean()*100,2)\n",
    "s4_test"
   ]
  },
  {
   "cell_type": "code",
   "execution_count": null,
   "id": "c44afac2",
   "metadata": {},
   "outputs": [],
   "source": []
  },
  {
   "cell_type": "markdown",
   "id": "f456d077",
   "metadata": {},
   "source": [
    "# ADABOOST "
   ]
  },
  {
   "cell_type": "code",
   "execution_count": 105,
   "id": "df3031a5",
   "metadata": {},
   "outputs": [],
   "source": [
    "from sklearn.ensemble import AdaBoostRegressor"
   ]
  },
  {
   "cell_type": "code",
   "execution_count": 106,
   "id": "5abbad15",
   "metadata": {
    "scrolled": true
   },
   "outputs": [
    {
     "name": "stdout",
     "output_type": "stream",
     "text": [
      "[0.82320041 0.82087926 0.81661635 0.73953734 0.84021792 0.85743791\n",
      " 0.8387342  0.79494294 0.81655047 0.83829984]\n",
      "r2 value : 0.8186416646536593\n"
     ]
    }
   ],
   "source": [
    "# Defining model\n",
    "model3 = AdaBoostRegressor()\n",
    "\n",
    "#Evaluate the model\n",
    "cv1 = KFold(n_splits=10,random_state=None,shuffle=False)\n",
    "RF_score = cross_val_score(model3,x,y,scoring='r2',cv=cv1,n_jobs=-1,error_score='raise')\n",
    "\n",
    "print(RF_score)\n",
    "print(\"r2 value :\",RF_score.mean())"
   ]
  },
  {
   "cell_type": "code",
   "execution_count": 107,
   "id": "533f7535",
   "metadata": {},
   "outputs": [],
   "source": [
    "s5_train = '--'"
   ]
  },
  {
   "cell_type": "code",
   "execution_count": 108,
   "id": "8b21e8ed",
   "metadata": {},
   "outputs": [
    {
     "data": {
      "text/plain": [
       "81.86"
      ]
     },
     "execution_count": 108,
     "metadata": {},
     "output_type": "execute_result"
    }
   ],
   "source": [
    "s5_test = round(RF_score.mean()*100,2)\n",
    "s5_test"
   ]
  },
  {
   "cell_type": "code",
   "execution_count": 109,
   "id": "a16513b6",
   "metadata": {},
   "outputs": [],
   "source": [
    "RESULTS = pd.DataFrame()"
   ]
  },
  {
   "cell_type": "code",
   "execution_count": 110,
   "id": "67620eba",
   "metadata": {},
   "outputs": [
    {
     "data": {
      "text/html": [
       "<div>\n",
       "<style scoped>\n",
       "    .dataframe tbody tr th:only-of-type {\n",
       "        vertical-align: middle;\n",
       "    }\n",
       "\n",
       "    .dataframe tbody tr th {\n",
       "        vertical-align: top;\n",
       "    }\n",
       "\n",
       "    .dataframe thead th {\n",
       "        text-align: right;\n",
       "    }\n",
       "</style>\n",
       "<table border=\"1\" class=\"dataframe\">\n",
       "  <thead>\n",
       "    <tr style=\"text-align: right;\">\n",
       "      <th></th>\n",
       "    </tr>\n",
       "  </thead>\n",
       "  <tbody>\n",
       "  </tbody>\n",
       "</table>\n",
       "</div>"
      ],
      "text/plain": [
       "Empty DataFrame\n",
       "Columns: []\n",
       "Index: []"
      ]
     },
     "execution_count": 110,
     "metadata": {},
     "output_type": "execute_result"
    }
   ],
   "source": [
    "RESULTS"
   ]
  },
  {
   "cell_type": "code",
   "execution_count": 111,
   "id": "30871a9e",
   "metadata": {},
   "outputs": [],
   "source": [
    "RESULTS['MODELS'] = ['LINEAR_REGRESSION','KNN','DESCISION_TREE','RANDOM_FOREST','ADABOOST']"
   ]
  },
  {
   "cell_type": "code",
   "execution_count": 112,
   "id": "7fd7a190",
   "metadata": {},
   "outputs": [],
   "source": [
    "RESULTS['TRAIN_SCORE'] = s1_train,s2_train,s3_train,s4_train,s5_train"
   ]
  },
  {
   "cell_type": "code",
   "execution_count": 113,
   "id": "1e8c6c54",
   "metadata": {},
   "outputs": [],
   "source": [
    "RESULTS['TEST_SCORE'] = s1_test,s2_test,s3_test,s4_test,s5_test"
   ]
  },
  {
   "cell_type": "code",
   "execution_count": 114,
   "id": "96bf6770",
   "metadata": {},
   "outputs": [
    {
     "data": {
      "text/html": [
       "<div>\n",
       "<style scoped>\n",
       "    .dataframe tbody tr th:only-of-type {\n",
       "        vertical-align: middle;\n",
       "    }\n",
       "\n",
       "    .dataframe tbody tr th {\n",
       "        vertical-align: top;\n",
       "    }\n",
       "\n",
       "    .dataframe thead th {\n",
       "        text-align: right;\n",
       "    }\n",
       "</style>\n",
       "<table border=\"1\" class=\"dataframe\">\n",
       "  <thead>\n",
       "    <tr style=\"text-align: right;\">\n",
       "      <th></th>\n",
       "      <th>MODELS</th>\n",
       "      <th>TRAIN_SCORE</th>\n",
       "      <th>TEST_SCORE</th>\n",
       "    </tr>\n",
       "  </thead>\n",
       "  <tbody>\n",
       "    <tr>\n",
       "      <th>0</th>\n",
       "      <td>LINEAR_REGRESSION</td>\n",
       "      <td>74.06</td>\n",
       "      <td>82.10</td>\n",
       "    </tr>\n",
       "    <tr>\n",
       "      <th>1</th>\n",
       "      <td>KNN</td>\n",
       "      <td>85.46</td>\n",
       "      <td>86.41</td>\n",
       "    </tr>\n",
       "    <tr>\n",
       "      <th>2</th>\n",
       "      <td>DESCISION_TREE</td>\n",
       "      <td>85.33</td>\n",
       "      <td>92.70</td>\n",
       "    </tr>\n",
       "    <tr>\n",
       "      <th>3</th>\n",
       "      <td>RANDOM_FOREST</td>\n",
       "      <td>--</td>\n",
       "      <td>83.34</td>\n",
       "    </tr>\n",
       "    <tr>\n",
       "      <th>4</th>\n",
       "      <td>ADABOOST</td>\n",
       "      <td>--</td>\n",
       "      <td>81.86</td>\n",
       "    </tr>\n",
       "  </tbody>\n",
       "</table>\n",
       "</div>"
      ],
      "text/plain": [
       "              MODELS TRAIN_SCORE  TEST_SCORE\n",
       "0  LINEAR_REGRESSION       74.06       82.10\n",
       "1                KNN       85.46       86.41\n",
       "2     DESCISION_TREE       85.33       92.70\n",
       "3      RANDOM_FOREST          --       83.34\n",
       "4           ADABOOST          --       81.86"
      ]
     },
     "execution_count": 114,
     "metadata": {},
     "output_type": "execute_result"
    }
   ],
   "source": [
    "RESULTS"
   ]
  },
  {
   "cell_type": "code",
   "execution_count": 115,
   "id": "042a0ddd",
   "metadata": {},
   "outputs": [
    {
     "data": {
      "text/html": [
       "<div>\n",
       "<style scoped>\n",
       "    .dataframe tbody tr th:only-of-type {\n",
       "        vertical-align: middle;\n",
       "    }\n",
       "\n",
       "    .dataframe tbody tr th {\n",
       "        vertical-align: top;\n",
       "    }\n",
       "\n",
       "    .dataframe thead th {\n",
       "        text-align: right;\n",
       "    }\n",
       "</style>\n",
       "<table border=\"1\" class=\"dataframe\">\n",
       "  <thead>\n",
       "    <tr style=\"text-align: right;\">\n",
       "      <th></th>\n",
       "      <th>MODELS</th>\n",
       "      <th>TRAIN_SCORE</th>\n",
       "      <th>TEST_SCORE</th>\n",
       "    </tr>\n",
       "  </thead>\n",
       "  <tbody>\n",
       "    <tr>\n",
       "      <th>2</th>\n",
       "      <td>DESCISION_TREE</td>\n",
       "      <td>85.33</td>\n",
       "      <td>92.70</td>\n",
       "    </tr>\n",
       "    <tr>\n",
       "      <th>1</th>\n",
       "      <td>KNN</td>\n",
       "      <td>85.46</td>\n",
       "      <td>86.41</td>\n",
       "    </tr>\n",
       "    <tr>\n",
       "      <th>3</th>\n",
       "      <td>RANDOM_FOREST</td>\n",
       "      <td>--</td>\n",
       "      <td>83.34</td>\n",
       "    </tr>\n",
       "    <tr>\n",
       "      <th>0</th>\n",
       "      <td>LINEAR_REGRESSION</td>\n",
       "      <td>74.06</td>\n",
       "      <td>82.10</td>\n",
       "    </tr>\n",
       "    <tr>\n",
       "      <th>4</th>\n",
       "      <td>ADABOOST</td>\n",
       "      <td>--</td>\n",
       "      <td>81.86</td>\n",
       "    </tr>\n",
       "  </tbody>\n",
       "</table>\n",
       "</div>"
      ],
      "text/plain": [
       "              MODELS TRAIN_SCORE  TEST_SCORE\n",
       "2     DESCISION_TREE       85.33       92.70\n",
       "1                KNN       85.46       86.41\n",
       "3      RANDOM_FOREST          --       83.34\n",
       "0  LINEAR_REGRESSION       74.06       82.10\n",
       "4           ADABOOST          --       81.86"
      ]
     },
     "execution_count": 115,
     "metadata": {},
     "output_type": "execute_result"
    }
   ],
   "source": [
    "RESULTS.sort_values(by = 'TEST_SCORE',ascending = False)"
   ]
  },
  {
   "cell_type": "code",
   "execution_count": null,
   "id": "84f96524",
   "metadata": {},
   "outputs": [],
   "source": []
  }
 ],
 "metadata": {
  "kernelspec": {
   "display_name": "Python 3 (ipykernel)",
   "language": "python",
   "name": "python3"
  },
  "language_info": {
   "codemirror_mode": {
    "name": "ipython",
    "version": 3
   },
   "file_extension": ".py",
   "mimetype": "text/x-python",
   "name": "python",
   "nbconvert_exporter": "python",
   "pygments_lexer": "ipython3",
   "version": "3.9.12"
  }
 },
 "nbformat": 4,
 "nbformat_minor": 5
}
